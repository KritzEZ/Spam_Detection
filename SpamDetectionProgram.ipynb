{
 "cells": [
  {
   "cell_type": "markdown",
   "metadata": {},
   "source": [
    "# Spam Dection using NLP"
   ]
  },
  {
   "cell_type": "markdown",
   "metadata": {},
   "source": [
    "By: Kritarth Shah\n",
    "\n",
    "For this program, I have only used the first 4000 messages of the file since my system was unable to allocate an array with that large of a size. If you system can handle the space needed, feel free to remove the \"[:4000]\" line below."
   ]
  },
  {
   "cell_type": "markdown",
   "metadata": {},
   "source": [
    "## Step 1: Reading Data"
   ]
  },
  {
   "cell_type": "code",
   "execution_count": 1,
   "metadata": {},
   "outputs": [
    {
     "data": {
      "text/html": [
       "<div>\n",
       "<style scoped>\n",
       "    .dataframe tbody tr th:only-of-type {\n",
       "        vertical-align: middle;\n",
       "    }\n",
       "\n",
       "    .dataframe tbody tr th {\n",
       "        vertical-align: top;\n",
       "    }\n",
       "\n",
       "    .dataframe thead th {\n",
       "        text-align: right;\n",
       "    }\n",
       "</style>\n",
       "<table border=\"1\" class=\"dataframe\">\n",
       "  <thead>\n",
       "    <tr style=\"text-align: right;\">\n",
       "      <th></th>\n",
       "      <th>label</th>\n",
       "      <th>text</th>\n",
       "    </tr>\n",
       "  </thead>\n",
       "  <tbody>\n",
       "    <tr>\n",
       "      <th>0</th>\n",
       "      <td>ham</td>\n",
       "      <td>Go until jurong point, crazy.. Available only ...</td>\n",
       "    </tr>\n",
       "    <tr>\n",
       "      <th>1</th>\n",
       "      <td>ham</td>\n",
       "      <td>Ok lar... Joking wif u oni...</td>\n",
       "    </tr>\n",
       "    <tr>\n",
       "      <th>2</th>\n",
       "      <td>spam</td>\n",
       "      <td>Free entry in 2 a wkly comp to win FA Cup fina...</td>\n",
       "    </tr>\n",
       "    <tr>\n",
       "      <th>3</th>\n",
       "      <td>ham</td>\n",
       "      <td>U dun say so early hor... U c already then say...</td>\n",
       "    </tr>\n",
       "    <tr>\n",
       "      <th>4</th>\n",
       "      <td>ham</td>\n",
       "      <td>Nah I don't think he goes to usf, he lives aro...</td>\n",
       "    </tr>\n",
       "  </tbody>\n",
       "</table>\n",
       "</div>"
      ],
      "text/plain": [
       "  label                                               text\n",
       "0   ham  Go until jurong point, crazy.. Available only ...\n",
       "1   ham                      Ok lar... Joking wif u oni...\n",
       "2  spam  Free entry in 2 a wkly comp to win FA Cup fina...\n",
       "3   ham  U dun say so early hor... U c already then say...\n",
       "4   ham  Nah I don't think he goes to usf, he lives aro..."
      ]
     },
     "execution_count": 1,
     "metadata": {},
     "output_type": "execute_result"
    }
   ],
   "source": [
    "import pandas as pd\n",
    "\n",
    "data = pd.read_csv(\"spam.csv\", encoding=\"latin-1\")\n",
    "data = data[['v1', 'v2']][:4000]\n",
    "data.columns = ['label', 'text']\n",
    "\n",
    "data.head()"
   ]
  },
  {
   "cell_type": "markdown",
   "metadata": {},
   "source": [
    "## Step 2: Cleaning Data\n",
    "\n",
    "For the ease of understanding this project, the following methods are divided into their own functions and later called in one function"
   ]
  },
  {
   "cell_type": "markdown",
   "metadata": {},
   "source": [
    "### Sub 1: Removing Punctuations"
   ]
  },
  {
   "cell_type": "code",
   "execution_count": 2,
   "metadata": {},
   "outputs": [],
   "source": [
    "import string\n",
    "\n",
    "def punctuation_remove(text):\n",
    "    no_punct = \"\".join([char for char in text if char not in string.punctuation])\n",
    "    return(no_punct.lower())"
   ]
  },
  {
   "cell_type": "markdown",
   "metadata": {},
   "source": [
    "### Sub 2: Tokenizing Words  "
   ]
  },
  {
   "cell_type": "code",
   "execution_count": 3,
   "metadata": {},
   "outputs": [],
   "source": [
    "import re\n",
    "\n",
    "def tokenizer(text):\n",
    "    tokens = re.split('\\W+', text)\n",
    "    return tokens"
   ]
  },
  {
   "cell_type": "markdown",
   "metadata": {},
   "source": [
    "### Sub 3: Removing Stopwords"
   ]
  },
  {
   "cell_type": "code",
   "execution_count": 4,
   "metadata": {},
   "outputs": [],
   "source": [
    "import nltk\n",
    "\n",
    "stopwords = nltk.corpus.stopwords.words('english')\n",
    "\n",
    "def stopwords_remove(text):\n",
    "    no_stopwords = [word for word in text if word not in stopwords]\n",
    "    return no_stopwords"
   ]
  },
  {
   "cell_type": "markdown",
   "metadata": {},
   "source": [
    "### Sub 4: Lemmatizing Words"
   ]
  },
  {
   "cell_type": "code",
   "execution_count": 5,
   "metadata": {},
   "outputs": [],
   "source": [
    "lemwords = nltk.WordNetLemmatizer()\n",
    "\n",
    "def lemmatizer(text):\n",
    "    lemmatized = [lemwords.lemmatize(word) for word in text]\n",
    "    return lemmatized"
   ]
  },
  {
   "cell_type": "markdown",
   "metadata": {},
   "source": [
    "### Cleaning Data (with previous four functions)"
   ]
  },
  {
   "cell_type": "code",
   "execution_count": 6,
   "metadata": {
    "scrolled": true
   },
   "outputs": [
    {
     "data": {
      "text/html": [
       "<div>\n",
       "<style scoped>\n",
       "    .dataframe tbody tr th:only-of-type {\n",
       "        vertical-align: middle;\n",
       "    }\n",
       "\n",
       "    .dataframe tbody tr th {\n",
       "        vertical-align: top;\n",
       "    }\n",
       "\n",
       "    .dataframe thead th {\n",
       "        text-align: right;\n",
       "    }\n",
       "</style>\n",
       "<table border=\"1\" class=\"dataframe\">\n",
       "  <thead>\n",
       "    <tr style=\"text-align: right;\">\n",
       "      <th></th>\n",
       "      <th>label</th>\n",
       "      <th>text</th>\n",
       "    </tr>\n",
       "  </thead>\n",
       "  <tbody>\n",
       "    <tr>\n",
       "      <th>0</th>\n",
       "      <td>ham</td>\n",
       "      <td>Go until jurong point, crazy.. Available only ...</td>\n",
       "    </tr>\n",
       "    <tr>\n",
       "      <th>1</th>\n",
       "      <td>ham</td>\n",
       "      <td>Ok lar... Joking wif u oni...</td>\n",
       "    </tr>\n",
       "    <tr>\n",
       "      <th>2</th>\n",
       "      <td>spam</td>\n",
       "      <td>Free entry in 2 a wkly comp to win FA Cup fina...</td>\n",
       "    </tr>\n",
       "    <tr>\n",
       "      <th>3</th>\n",
       "      <td>ham</td>\n",
       "      <td>U dun say so early hor... U c already then say...</td>\n",
       "    </tr>\n",
       "    <tr>\n",
       "      <th>4</th>\n",
       "      <td>ham</td>\n",
       "      <td>Nah I don't think he goes to usf, he lives aro...</td>\n",
       "    </tr>\n",
       "  </tbody>\n",
       "</table>\n",
       "</div>"
      ],
      "text/plain": [
       "  label                                               text\n",
       "0   ham  Go until jurong point, crazy.. Available only ...\n",
       "1   ham                      Ok lar... Joking wif u oni...\n",
       "2  spam  Free entry in 2 a wkly comp to win FA Cup fina...\n",
       "3   ham  U dun say so early hor... U c already then say...\n",
       "4   ham  Nah I don't think he goes to usf, he lives aro..."
      ]
     },
     "execution_count": 6,
     "metadata": {},
     "output_type": "execute_result"
    }
   ],
   "source": [
    "def clean_data(text):\n",
    "    return lemmatizer(stopwords_remove(tokenizer(punctuation_remove(text))))\n",
    "\n",
    "data.head()"
   ]
  },
  {
   "cell_type": "markdown",
   "metadata": {},
   "source": [
    "## Step 3: Adding Features"
   ]
  },
  {
   "cell_type": "code",
   "execution_count": 7,
   "metadata": {},
   "outputs": [],
   "source": [
    "#add data of length of every mail minus white spaces\n",
    "data['body_len'] = data['text'].apply(lambda x: len(x) - x.count(\" \"))\n",
    "\n",
    "#function to get % of punctuations in the whole text minus white space\n",
    "def count_punct(text):\n",
    "    count = sum([1 for char in text if char in string.punctuation])\n",
    "    return round(count/(len(text) - text.count(\" \")), 3)*100\n",
    "\n",
    "#add data of % of punctuations in text\n",
    "data['punct%'] = data['text'].apply(lambda x: count_punct(x))"
   ]
  },
  {
   "cell_type": "markdown",
   "metadata": {},
   "source": [
    "## Step 3: Vectorizing Data"
   ]
  },
  {
   "cell_type": "markdown",
   "metadata": {},
   "source": [
    "### Sub 1: Spliting Data into test and train"
   ]
  },
  {
   "cell_type": "code",
   "execution_count": 8,
   "metadata": {},
   "outputs": [],
   "source": [
    "from sklearn.model_selection import train_test_split\n",
    "\n",
    "#splitting the test and training data (using data of 5 (20%))\n",
    "X_train, X_test, y_train, y_test = train_test_split(data[['text', 'body_len', 'punct%']], data['label'], test_size=0.2)"
   ]
  },
  {
   "cell_type": "markdown",
   "metadata": {},
   "source": [
    "### Sub 2: Vectorizing test and training data"
   ]
  },
  {
   "cell_type": "code",
   "execution_count": 9,
   "metadata": {
    "scrolled": false
   },
   "outputs": [],
   "source": [
    "from sklearn.feature_extraction.text import TfidfVectorizer\n",
    "\n",
    "tfidf_vect = TfidfVectorizer(analyzer=clean_data)\n",
    "tfidf_vect_fit = tfidf_vect.fit(X_train['text'])\n",
    "\n",
    "tfidf_train = tfidf_vect_fit.transform(X_train['text'])\n",
    "X_train_vect = pd.concat([X_train[['body_len', 'punct%']].reset_index(drop=True), \n",
    "           pd.DataFrame(tfidf_train.toarray())], axis=1)\n",
    "\n",
    "tfidf_test = tfidf_vect_fit.transform(X_test['text'])\n",
    "X_test_vect = pd.concat([X_test[['body_len', 'punct%']].reset_index(drop=True), \n",
    "           pd.DataFrame(tfidf_test.toarray())], axis=1)"
   ]
  },
  {
   "cell_type": "code",
   "execution_count": 10,
   "metadata": {},
   "outputs": [
    {
     "name": "stdout",
     "output_type": "stream",
     "text": [
      "Training Data Vector\n"
     ]
    },
    {
     "data": {
      "text/html": [
       "<div>\n",
       "<style scoped>\n",
       "    .dataframe tbody tr th:only-of-type {\n",
       "        vertical-align: middle;\n",
       "    }\n",
       "\n",
       "    .dataframe tbody tr th {\n",
       "        vertical-align: top;\n",
       "    }\n",
       "\n",
       "    .dataframe thead th {\n",
       "        text-align: right;\n",
       "    }\n",
       "</style>\n",
       "<table border=\"1\" class=\"dataframe\">\n",
       "  <thead>\n",
       "    <tr style=\"text-align: right;\">\n",
       "      <th></th>\n",
       "      <th>body_len</th>\n",
       "      <th>punct%</th>\n",
       "      <th>0</th>\n",
       "      <th>1</th>\n",
       "      <th>2</th>\n",
       "      <th>3</th>\n",
       "      <th>4</th>\n",
       "      <th>5</th>\n",
       "      <th>6</th>\n",
       "      <th>7</th>\n",
       "      <th>...</th>\n",
       "      <th>6483</th>\n",
       "      <th>6484</th>\n",
       "      <th>6485</th>\n",
       "      <th>6486</th>\n",
       "      <th>6487</th>\n",
       "      <th>6488</th>\n",
       "      <th>6489</th>\n",
       "      <th>6490</th>\n",
       "      <th>6491</th>\n",
       "      <th>6492</th>\n",
       "    </tr>\n",
       "  </thead>\n",
       "  <tbody>\n",
       "    <tr>\n",
       "      <th>0</th>\n",
       "      <td>42</td>\n",
       "      <td>7.1</td>\n",
       "      <td>0.0</td>\n",
       "      <td>0.0</td>\n",
       "      <td>0.0</td>\n",
       "      <td>0.0</td>\n",
       "      <td>0.0</td>\n",
       "      <td>0.0</td>\n",
       "      <td>0.0</td>\n",
       "      <td>0.0</td>\n",
       "      <td>...</td>\n",
       "      <td>0.0</td>\n",
       "      <td>0.0</td>\n",
       "      <td>0.0</td>\n",
       "      <td>0.0</td>\n",
       "      <td>0.0</td>\n",
       "      <td>0.0</td>\n",
       "      <td>0.0</td>\n",
       "      <td>0.0</td>\n",
       "      <td>0.0</td>\n",
       "      <td>0.0</td>\n",
       "    </tr>\n",
       "    <tr>\n",
       "      <th>1</th>\n",
       "      <td>41</td>\n",
       "      <td>7.3</td>\n",
       "      <td>0.0</td>\n",
       "      <td>0.0</td>\n",
       "      <td>0.0</td>\n",
       "      <td>0.0</td>\n",
       "      <td>0.0</td>\n",
       "      <td>0.0</td>\n",
       "      <td>0.0</td>\n",
       "      <td>0.0</td>\n",
       "      <td>...</td>\n",
       "      <td>0.0</td>\n",
       "      <td>0.0</td>\n",
       "      <td>0.0</td>\n",
       "      <td>0.0</td>\n",
       "      <td>0.0</td>\n",
       "      <td>0.0</td>\n",
       "      <td>0.0</td>\n",
       "      <td>0.0</td>\n",
       "      <td>0.0</td>\n",
       "      <td>0.0</td>\n",
       "    </tr>\n",
       "    <tr>\n",
       "      <th>2</th>\n",
       "      <td>33</td>\n",
       "      <td>6.1</td>\n",
       "      <td>0.0</td>\n",
       "      <td>0.0</td>\n",
       "      <td>0.0</td>\n",
       "      <td>0.0</td>\n",
       "      <td>0.0</td>\n",
       "      <td>0.0</td>\n",
       "      <td>0.0</td>\n",
       "      <td>0.0</td>\n",
       "      <td>...</td>\n",
       "      <td>0.0</td>\n",
       "      <td>0.0</td>\n",
       "      <td>0.0</td>\n",
       "      <td>0.0</td>\n",
       "      <td>0.0</td>\n",
       "      <td>0.0</td>\n",
       "      <td>0.0</td>\n",
       "      <td>0.0</td>\n",
       "      <td>0.0</td>\n",
       "      <td>0.0</td>\n",
       "    </tr>\n",
       "    <tr>\n",
       "      <th>3</th>\n",
       "      <td>30</td>\n",
       "      <td>0.0</td>\n",
       "      <td>0.0</td>\n",
       "      <td>0.0</td>\n",
       "      <td>0.0</td>\n",
       "      <td>0.0</td>\n",
       "      <td>0.0</td>\n",
       "      <td>0.0</td>\n",
       "      <td>0.0</td>\n",
       "      <td>0.0</td>\n",
       "      <td>...</td>\n",
       "      <td>0.0</td>\n",
       "      <td>0.0</td>\n",
       "      <td>0.0</td>\n",
       "      <td>0.0</td>\n",
       "      <td>0.0</td>\n",
       "      <td>0.0</td>\n",
       "      <td>0.0</td>\n",
       "      <td>0.0</td>\n",
       "      <td>0.0</td>\n",
       "      <td>0.0</td>\n",
       "    </tr>\n",
       "    <tr>\n",
       "      <th>4</th>\n",
       "      <td>57</td>\n",
       "      <td>8.8</td>\n",
       "      <td>0.0</td>\n",
       "      <td>0.0</td>\n",
       "      <td>0.0</td>\n",
       "      <td>0.0</td>\n",
       "      <td>0.0</td>\n",
       "      <td>0.0</td>\n",
       "      <td>0.0</td>\n",
       "      <td>0.0</td>\n",
       "      <td>...</td>\n",
       "      <td>0.0</td>\n",
       "      <td>0.0</td>\n",
       "      <td>0.0</td>\n",
       "      <td>0.0</td>\n",
       "      <td>0.0</td>\n",
       "      <td>0.0</td>\n",
       "      <td>0.0</td>\n",
       "      <td>0.0</td>\n",
       "      <td>0.0</td>\n",
       "      <td>0.0</td>\n",
       "    </tr>\n",
       "  </tbody>\n",
       "</table>\n",
       "<p>5 rows × 6495 columns</p>\n",
       "</div>"
      ],
      "text/plain": [
       "   body_len  punct%    0    1    2    3    4    5    6    7  ...  6483  6484  \\\n",
       "0        42     7.1  0.0  0.0  0.0  0.0  0.0  0.0  0.0  0.0  ...   0.0   0.0   \n",
       "1        41     7.3  0.0  0.0  0.0  0.0  0.0  0.0  0.0  0.0  ...   0.0   0.0   \n",
       "2        33     6.1  0.0  0.0  0.0  0.0  0.0  0.0  0.0  0.0  ...   0.0   0.0   \n",
       "3        30     0.0  0.0  0.0  0.0  0.0  0.0  0.0  0.0  0.0  ...   0.0   0.0   \n",
       "4        57     8.8  0.0  0.0  0.0  0.0  0.0  0.0  0.0  0.0  ...   0.0   0.0   \n",
       "\n",
       "   6485  6486  6487  6488  6489  6490  6491  6492  \n",
       "0   0.0   0.0   0.0   0.0   0.0   0.0   0.0   0.0  \n",
       "1   0.0   0.0   0.0   0.0   0.0   0.0   0.0   0.0  \n",
       "2   0.0   0.0   0.0   0.0   0.0   0.0   0.0   0.0  \n",
       "3   0.0   0.0   0.0   0.0   0.0   0.0   0.0   0.0  \n",
       "4   0.0   0.0   0.0   0.0   0.0   0.0   0.0   0.0  \n",
       "\n",
       "[5 rows x 6495 columns]"
      ]
     },
     "execution_count": 10,
     "metadata": {},
     "output_type": "execute_result"
    }
   ],
   "source": [
    "print(\"Training Data Vector\")\n",
    "X_train_vect.head()"
   ]
  },
  {
   "cell_type": "code",
   "execution_count": 11,
   "metadata": {},
   "outputs": [
    {
     "name": "stdout",
     "output_type": "stream",
     "text": [
      "Testing Data Vector\n"
     ]
    },
    {
     "data": {
      "text/html": [
       "<div>\n",
       "<style scoped>\n",
       "    .dataframe tbody tr th:only-of-type {\n",
       "        vertical-align: middle;\n",
       "    }\n",
       "\n",
       "    .dataframe tbody tr th {\n",
       "        vertical-align: top;\n",
       "    }\n",
       "\n",
       "    .dataframe thead th {\n",
       "        text-align: right;\n",
       "    }\n",
       "</style>\n",
       "<table border=\"1\" class=\"dataframe\">\n",
       "  <thead>\n",
       "    <tr style=\"text-align: right;\">\n",
       "      <th></th>\n",
       "      <th>body_len</th>\n",
       "      <th>punct%</th>\n",
       "      <th>0</th>\n",
       "      <th>1</th>\n",
       "      <th>2</th>\n",
       "      <th>3</th>\n",
       "      <th>4</th>\n",
       "      <th>5</th>\n",
       "      <th>6</th>\n",
       "      <th>7</th>\n",
       "      <th>...</th>\n",
       "      <th>6483</th>\n",
       "      <th>6484</th>\n",
       "      <th>6485</th>\n",
       "      <th>6486</th>\n",
       "      <th>6487</th>\n",
       "      <th>6488</th>\n",
       "      <th>6489</th>\n",
       "      <th>6490</th>\n",
       "      <th>6491</th>\n",
       "      <th>6492</th>\n",
       "    </tr>\n",
       "  </thead>\n",
       "  <tbody>\n",
       "    <tr>\n",
       "      <th>0</th>\n",
       "      <td>16</td>\n",
       "      <td>18.8</td>\n",
       "      <td>0.0</td>\n",
       "      <td>0.0</td>\n",
       "      <td>0.0</td>\n",
       "      <td>0.0</td>\n",
       "      <td>0.0</td>\n",
       "      <td>0.0</td>\n",
       "      <td>0.0</td>\n",
       "      <td>0.0</td>\n",
       "      <td>...</td>\n",
       "      <td>0.0</td>\n",
       "      <td>0.0</td>\n",
       "      <td>0.0</td>\n",
       "      <td>0.0</td>\n",
       "      <td>0.0</td>\n",
       "      <td>0.0</td>\n",
       "      <td>0.0</td>\n",
       "      <td>0.0</td>\n",
       "      <td>0.0</td>\n",
       "      <td>0.0</td>\n",
       "    </tr>\n",
       "    <tr>\n",
       "      <th>1</th>\n",
       "      <td>17</td>\n",
       "      <td>0.0</td>\n",
       "      <td>0.0</td>\n",
       "      <td>0.0</td>\n",
       "      <td>0.0</td>\n",
       "      <td>0.0</td>\n",
       "      <td>0.0</td>\n",
       "      <td>0.0</td>\n",
       "      <td>0.0</td>\n",
       "      <td>0.0</td>\n",
       "      <td>...</td>\n",
       "      <td>0.0</td>\n",
       "      <td>0.0</td>\n",
       "      <td>0.0</td>\n",
       "      <td>0.0</td>\n",
       "      <td>0.0</td>\n",
       "      <td>0.0</td>\n",
       "      <td>0.0</td>\n",
       "      <td>0.0</td>\n",
       "      <td>0.0</td>\n",
       "      <td>0.0</td>\n",
       "    </tr>\n",
       "    <tr>\n",
       "      <th>2</th>\n",
       "      <td>20</td>\n",
       "      <td>20.0</td>\n",
       "      <td>0.0</td>\n",
       "      <td>0.0</td>\n",
       "      <td>0.0</td>\n",
       "      <td>0.0</td>\n",
       "      <td>0.0</td>\n",
       "      <td>0.0</td>\n",
       "      <td>0.0</td>\n",
       "      <td>0.0</td>\n",
       "      <td>...</td>\n",
       "      <td>0.0</td>\n",
       "      <td>0.0</td>\n",
       "      <td>0.0</td>\n",
       "      <td>0.0</td>\n",
       "      <td>0.0</td>\n",
       "      <td>0.0</td>\n",
       "      <td>0.0</td>\n",
       "      <td>0.0</td>\n",
       "      <td>0.0</td>\n",
       "      <td>0.0</td>\n",
       "    </tr>\n",
       "    <tr>\n",
       "      <th>3</th>\n",
       "      <td>131</td>\n",
       "      <td>3.1</td>\n",
       "      <td>0.0</td>\n",
       "      <td>0.0</td>\n",
       "      <td>0.0</td>\n",
       "      <td>0.0</td>\n",
       "      <td>0.0</td>\n",
       "      <td>0.0</td>\n",
       "      <td>0.0</td>\n",
       "      <td>0.0</td>\n",
       "      <td>...</td>\n",
       "      <td>0.0</td>\n",
       "      <td>0.0</td>\n",
       "      <td>0.0</td>\n",
       "      <td>0.0</td>\n",
       "      <td>0.0</td>\n",
       "      <td>0.0</td>\n",
       "      <td>0.0</td>\n",
       "      <td>0.0</td>\n",
       "      <td>0.0</td>\n",
       "      <td>0.0</td>\n",
       "    </tr>\n",
       "    <tr>\n",
       "      <th>4</th>\n",
       "      <td>48</td>\n",
       "      <td>16.7</td>\n",
       "      <td>0.0</td>\n",
       "      <td>0.0</td>\n",
       "      <td>0.0</td>\n",
       "      <td>0.0</td>\n",
       "      <td>0.0</td>\n",
       "      <td>0.0</td>\n",
       "      <td>0.0</td>\n",
       "      <td>0.0</td>\n",
       "      <td>...</td>\n",
       "      <td>0.0</td>\n",
       "      <td>0.0</td>\n",
       "      <td>0.0</td>\n",
       "      <td>0.0</td>\n",
       "      <td>0.0</td>\n",
       "      <td>0.0</td>\n",
       "      <td>0.0</td>\n",
       "      <td>0.0</td>\n",
       "      <td>0.0</td>\n",
       "      <td>0.0</td>\n",
       "    </tr>\n",
       "  </tbody>\n",
       "</table>\n",
       "<p>5 rows × 6495 columns</p>\n",
       "</div>"
      ],
      "text/plain": [
       "   body_len  punct%    0    1    2    3    4    5    6    7  ...  6483  6484  \\\n",
       "0        16    18.8  0.0  0.0  0.0  0.0  0.0  0.0  0.0  0.0  ...   0.0   0.0   \n",
       "1        17     0.0  0.0  0.0  0.0  0.0  0.0  0.0  0.0  0.0  ...   0.0   0.0   \n",
       "2        20    20.0  0.0  0.0  0.0  0.0  0.0  0.0  0.0  0.0  ...   0.0   0.0   \n",
       "3       131     3.1  0.0  0.0  0.0  0.0  0.0  0.0  0.0  0.0  ...   0.0   0.0   \n",
       "4        48    16.7  0.0  0.0  0.0  0.0  0.0  0.0  0.0  0.0  ...   0.0   0.0   \n",
       "\n",
       "   6485  6486  6487  6488  6489  6490  6491  6492  \n",
       "0   0.0   0.0   0.0   0.0   0.0   0.0   0.0   0.0  \n",
       "1   0.0   0.0   0.0   0.0   0.0   0.0   0.0   0.0  \n",
       "2   0.0   0.0   0.0   0.0   0.0   0.0   0.0   0.0  \n",
       "3   0.0   0.0   0.0   0.0   0.0   0.0   0.0   0.0  \n",
       "4   0.0   0.0   0.0   0.0   0.0   0.0   0.0   0.0  \n",
       "\n",
       "[5 rows x 6495 columns]"
      ]
     },
     "execution_count": 11,
     "metadata": {},
     "output_type": "execute_result"
    }
   ],
   "source": [
    "print(\"Testing Data Vector\")\n",
    "X_test_vect.head()"
   ]
  },
  {
   "cell_type": "code",
   "execution_count": 12,
   "metadata": {},
   "outputs": [
    {
     "name": "stdout",
     "output_type": "stream",
     "text": [
      "(3200, 6493)\n",
      "(800, 6493)\n",
      "['', '008704050406', '01223585236', '01223585334', '0125698789', '020603', '0207', '02072069400', '02085076972', '021', '050703', '0578', '06', '07046744435', '07090201529', '07090298926', '071104', '07123456789', '0721072', '07732584351', '07734396839', '07742676969', '07753741225', '07786200117', '077xxx', '07801543489', '07808', '07815296484', '07821230901', '0794674629107880867867', '07xxxxxxxxx', '0800', '08000407165', '08000776320', '08000839402', '08000930705', '08000938767', '08001950382', '08002888812', '08002986030', '08002986906', '08002988890', '08006344447', '0808', '08081263000', '08081560665', '0825', '0844', '08448714184', '0845', '08452810071', '08452810073', '08452810075over18s', '0870', '08700621170150p', '08701237397', '08701417012', '08701417012150p', '0870141701216', '087016248', '08701752560', '087018728737', '0870241182716', '08702490080', '08702840625', '08702840625comuk', '08704439680', '08706091795', '08707509020', '0870753331018', '08708034412', '08709222922', '0870k', '08712101358', '08712103738', '0871212025016', '08712300220', '087123002209am7pm', '08712317606', '08712400603', '08712402050', '08712402902', '08712402972', '08712404000', '08712405020', '08712405022', '08712460324', '0871277810810', '0871277810910pmin', '087147123779am7pm', '08714712379', '08714712388', '08714712394', '08714714011', '08714719523', '08715203028', '08715203677', '08715203694', '08715705022', '08717168528', '08717205546', '08717507711', '08717890890å', '08717898035', '08718711108', '08718720201', '08718726270150gbpmtmsg18', '08718726970', '08718726971', '08718726978', '08718727868', '08718727870', '08718730555', '08718730666', '08718738001', '08718738034', '08719180248', '08719181503', '08719181513', '08719899217', '08719899230', '09041940223', '09050000301', '09050000460', '09050000878', '09050001808', '09050002311', '09050003091', '09050005321', '09050090044', '09050280520', '09056242159', '09057039994', '09058094454', '09058094565', '09058094594', '09058094599', '09058095107', '09058097218', '09058098002', '09058099801', '09061104276', '09061104283', '09061209465', '09061221061', '09061221066', '09061701461', '09061701851', '09061701939', '09061743386', '09061743806', '09061749602', '09061790121', '09063440451', '09063458130', '09064012103', '09064012160', '09064018838', '09064019014', '09064019788', '09065069120', '09065069154', '09065174042', '09065394514', '09065394973', '09065989180', '09065989182', '09066350750', '09066358152', '09066358361', '09066362206', '09066362220', '09066362231', '09066364349', '09066364589', '09066368327', '09066368470', '09066382422', '09066612661', '09066660100', '09071512433', '09071517866', '09090204448', '09090900040', '09094100151', '09094646899', '09096102316', '09099725823', '09099726395', '09099726481', '09111030116', '09111032124', '0anetworks', '1', '10', '100', '1000', '10000', '100000', '100psms', '1010', '101mega', '1030', '10803', '10am7pm', '10am9pm', '10k', '10p', '10pmin', '10ppm', '11', '1120', '113', '11414', '1148', '11mths', '12', '120', '12000pes', '1205', '121', '1225', '123', '1250', '125gift', '12hours', '12hrs', '12mths', '12price', '1327', '1405', '145', '1450', '146tf150p', '14thmarch', '150', '1500', '150morefrmmob', '150msg', '150p', '150pday', '150perwksub', '150pm', '150pmin', '150pmmorefrommobile2bremovedmobypobox734ls27yf', '150pmsg', '150pmsgrcvdhgsuite3422landsroww1j6hl', '150pmt', '150pmtmsg', '150pmtmsgrcvd18', '150ppermesssubscription', '150ppm', '150ppmpobox10183bhamb64xe', '150prcvd', '150psms', '150ptone', '150pw', '150pwk', '150week', '153', '15pmin', '16', '1680', '169', '16only', '18', '181104', '1843', '186å', '18only', '18yrs', '195', '1956669', '1childish', '1er', '1hanuman', '1his', '1hr', '1im', '1million', '1minmobsmorelkpobox177hp51fl', '1minmoremobsemspobox45po139wa', '1month', '1pm', '1st', '1st4terms', '1stone', '1unbreakable', '1winaweek', '1x150pwk', '1yf', '2', '20', '200', '2000', '20000', '2003', '2004', '2005', '2006', '20m12aq', '20p', '21', '21870000hi', '21st', '22', '220cm2', '2309', '230ish', '241004', '247mp', '24hrs', '24m', '25', '250', '250k', '25p', '26th', '2703', '27603', '28', '2814032', '285', '28days', '28th', '28thfebtcs', '290305', '2bajarangabali', '2c', '2day', '2end', '2getha', '2geva', '2go', '2godid', '2gthr', '2kbsubject', '2moro', '2morow', '2morro', '2morrow', '2mrw', '2naughty', '2nd', '2nights', '2nite', '2nitetell', '2optout', '2optoutd3wv', '2police', '2px', '2rcv', '2stop', '2stoptx', '2stoptxt', '2u', '2untamed', '2waxsto', '2wt', '2years', '2yr', '3', '300', '3000', '300603', '300p', '3030', '30apr', '31', '3100', '311004', '31pmsg150p', '3230', '32323', '32f', '330', '3365', '350', '3510i', '35p', '3650', '36504', '3680offer', '375max', '391784', '399', '3aj', '3cover', '3d', '3g', '3gbp', '3lp', '3maruti', '3miles', '3mins', '3optical', '3pound', '3qxj9', '3rd', '3sentiment', '3unkempt', '3uz', '3wife', '3wk', '3xå', '4', '40', '400', '400minscall', '4041', '40533', '40gb', '415', '41685', '41782', '42478', '434', '44', '4403ldnw1a7rw18', '447797706009', '447per', '448712404000please', '449050000301', '449071512431', '449month', '450', '450p', '45239', '4742', '48', '4882', '4a', '4cook', '4d', '4get', '4give', '4got', '4goten', '4info', '4jx', '4lux', '4mths', '4o', '4pavanaputra', '4press', '4rowdy', '4tctxt', '4th', '4the', '4txt120p', '4txtì¼120', '4u', '4ui', '4w', '4wrd', '5', '50', '500', '5000', '500000', '505060', '50award', '50p', '50å', '515', '526', '528', '530', '532', '54', '542', '545', '5903', '5digital', '5ful', '5gardener', '5gently', '5ish', '5min', '5month', '5pm', '5sankatmochan', '5th', '5wb', '5we', '5wkg', '5wq', '5years', '6', '600', '6031', '60p', '60pmin', '61200', '61610', '62220cncl', '6230', '62468', '630', '645', '645pm', '6669', '67441233', '68866', '69669', '69696', '69698', '69855', '69876', '69888', '69969', '69988', '6days', '6housemaid', '6hrs', '6ish', '6missed', '6months', '6pm', '6ramaduth', '6romantic', '6th', '7', '700', '71', '725', '7250', '7250i', '730', '730ish', '730pm', '74355', '750', '75000', '7548', '7732584351', '786', '7876150ppm', '78pmin', '7am', '7children', '7ish', '7mahaveer', '7oz', '7pm', '7shy', '7th', '8', '800', '80062', '8007', '80082', '80086', '80122300pwk', '80155', '80160', '80182', '8027', '80488', '80608', '8077', '80878', '81010', '81151', '81303', '81618', '816183', '82242', '82277', '82277unsub', '82324', '82468', '830', '83021', '83049', '83110', '83222', '83332please', '83355', '83370', '83383', '83435', '83600', '84', '84025', '84128', '84199', '84484', '85', '85023', '85069', '85222', '85233', '8552', '85555', '86021', '861', '863', '86688', '87021', '87066', '87070', '87077', '87121', '87131', '8714714', '87239', '87575', '88039', '88039skilgmetscs087147403231winawkage16å', '88066', '88088', '88222', '8830', '88600', '88800', '88888', '89034', '89080', '89105', '89545', '89555', '89693', '8attractive', '8lb', '8neighbour', '8o', '8pm', '8th', '8wp', '9', '900', '9061100010', '9153', '924', '930', '945', '95pax', '9996', '9ae', '9am', '9am11pm', '9funny', '9ja', '9pm', '9t', '9th', '9yt', 'a30', 'aah', 'aaniye', 'aaooooright', 'aathilove', 'aathiwhere', 'abbey', 'abeg', 'abel', 'abi', 'ability', 'abiola', 'abj', 'able', 'abnormally', 'aboutas', 'abroad', 'abt', 'abuser', 'ac', 'acc', 'accenture', 'accept', 'access', 'accidant', 'accident', 'accidentally', 'accommodation', 'accomodate', 'accomodations', 'accordin', 'accordinglyor', 'account', 'accounting', 'accumulation', 'ache', 'achieve', 'acid', 'acnt', 'acoentry41', 'across', 'acsmsrewards', 'act', 'action', 'activate', 'active', 'actor', 'actually', 'ad', 'adam', 'add', 'addamsfa', 'added', 'addicted', 'addie', 'address', 'addressull', 'adewale', 'adi', 'administrator', 'admirer', 'admit', 'admiti', 'adore', 'adoring', 'adrian', 'adult', 'advance', 'advice', 'advise', 'advising', 'aeronautics', 'aeroplane', 'affair', 'affection', 'affectionate', 'affectionsamp', 'affidavit', 'afford', 'afraid', 'african', 'aft', 'afternon', 'afternoon', 'aftr', 'ag', 'againloving', 'agalla', 'age', 'age16', 'age16150ppermesssubscription', 'agency', 'agent', 'agesring', 'agidhane', 'aging', 'ago', 'agree', 'ah', 'aha', 'ahead', 'ahgee', 'ahhh', 'ahmad', 'ahnow', 'ahold', 'ahsen', 'ahthe', 'aid', 'aig', 'aight', 'aint', 'air', 'air1', 'airport', 'airtel', 'aiya', 'aiyah', 'aiyar', 'aiyo', 'ak', 'aka', 'al', 'alaipayuthe', 'album', 'albumquite', 'alcohol', 'aldrine', 'alert', 'alertfrom', 'alex', 'alexs', 'alfie', 'algarve', 'algorithm', 'ali', 'alibi', 'alive', 'alivebetter', 'allahmeet', 'allahrakhesh', 'allalo', 'alle', 'allo', 'allow', 'allowed', 'alls', 'almost', 'alone', 'along', 'alot', 'already', 'alreadysabarish', 'alright', 'alrightokay', 'alrite', 'alritehave', 'also', 'alsoor', 'alter', 'alternativehope', 'although', 'alwa', 'always', 'alwys', 'am', 'amazing', 'ami', 'amigo', 'amk', 'ammo', 'among', 'amongst', 'amore', 'amount', 'amp', 'amplikater', 'amrita', 'amt', 'amx', 'amy', 'an', 'anal', 'analysis', 'anand', 'andor', 'andrewsboy', 'andros', 'angel', 'angry', 'animal', 'anjie', 'anna', 'annie', 'anniversary', 'annoncement', 'announcement', 'annoyin', 'annoying', 'anot', 'another', 'ansr', 'answer', 'answered', 'answering', 'answr', 'anthony', 'anti', 'anybody', 'anybodys', 'anyhow', 'anymore', 'anyone', 'anyplaces', 'anythin', 'anything', 'anythings', 'anytime', 'anyway', 'anyways', 'anywhere', 'aom', 'apart', 'apartment', 'ape', 'apeshit', 'aphexåõs', 'apnt', 'apologise', 'apologize', 'apology', 'app', 'apparently', 'appeal', 'appear', 'appendix', 'applespairsall', 'application', 'apply', 'apply2', 'applying', 'appointment', 'appreciate', 'appreciated', 'approach', 'approaching', 'appropriate', 'approx', 'apps', 'appt', 'april', 'aproach', 'aptitude', 'ar', 'arabian', 'ard', 'area', 'arent', 'arestaurant', 'argh', 'argue', 'arguing', 'argument', 'aries', 'arise', 'arises', 'arithmetic', 'arm', 'armand', 'armands', 'armenia', 'arng', 'arngd', 'around', 'aroundn', 'arr', 'arrange', 'arranging', 'arrested', 'arrival', 'arrive', 'arrived', 'arrow', 'arsenal', 'art', 'artist', 'arty', 'arul', 'arun', 'as', 'asa', 'asap', 'ashleys', 'ask', 'askd', 'asked', 'askin', 'asking', 'asks', 'asleep', 'aspect', 'associate', 'assume', 'assumed', 'asthere', 'astne', 'asus', 'asusual1', 'ate', 'athletic', 'athome', 'atlanta', 'atlast', 'atleast', 'atm', 'atrocious', 'attach', 'attached', 'attempt', 'atten', 'attend', 'attending', 'attitude', 'attractioni', 'attracts', 'attributed', 'atyour', 'auction', 'auctionpunj', 'audrey', 'audreys', 'audrie', 'august', 'aunt', 'auntie', 'aunty', 'aust', 'auto', 'autocorrect', 'av', 'ava', 'availa', 'available', 'availablei', 'avatar', 'avble', 'ave', 'avenge', 'avent', 'avo', 'avoid', 'avoiding', 'avoids', 'await', 'awaiting', 'awake', 'award', 'awarded', 'away', 'awesome', 'aww', 'ax', 'axis', 'ay', 'aå', 'b', 'b4', 'b4190604', 'b4280703', 'b4u', 'ba', 'babe', 'baby', 'babygoodbye', 'babyhope', 'babyjontet', 'babysit', 'babysitting', 'bac', 'back', 'backa', 'backdoor', 'bad', 'badrith', 'bag', 'bagi', 'bahamas', 'baig', 'bak', 'bakra', 'bakrid', 'balance', 'balloon', 'bam', 'bambling', 'ban', 'bandage', 'bang', 'bangb', 'bangbabes', 'bank', 'banned', 'banneduk', 'banter', 'bao', 'bar', 'barbie', 'bare', 'barely', 'barolla', 'barred', 'bash', 'basic', 'basically', 'basket', 'basketball', 'bat', 'batch', 'bath', 'bathe', 'bathing', 'bathroom', 'batsman', 'battery', 'bay', 'bb', 'bbdpooja', 'bbq', 'bc', 'bck', 'bcm', 'bcm1896wc1n3xx', 'bcm4284', 'bcmsfwc1n3xx', 'bcoz', 'bcum', 'bcums', 'bday', 'beach', 'bead', 'bear', 'beautiful', 'beautifulmay', 'beauty', 'bec', 'becaus', 'becausethey', 'become', 'becoz', 'becz', 'bed', 'bedrm900', 'bedroom', 'beehoon', 'beer', 'beerage', 'beerrs', 'beforehand', 'beg', 'beggar', 'begging', 'begin', 'begun', 'behave', 'behind', 'bein', 'believe', 'belive', 'bell', 'bellearlier', 'belligerent', 'belly', 'belovd', 'beloved', 'ben', 'bend', 'beneath', 'beneficiary', 'benefit', 'best', 'best1', 'bestcongrats', 'bet', 'beta', 'beth', 'betta', 'better', 'bettersn', 'beware', 'beyond', 'bf', 'bfore', 'bhaskar', 'bian', 'biatch', 'bid', 'big', 'bigger', 'biggest', 'bike', 'bill', 'billed', 'billion', 'bilo', 'bin', 'biola', 'bird', 'birla', 'biro', 'birth', 'birthdate', 'birthday', 'bishan', 'bit', 'bitch', 'bite', 'bk', 'black', 'blackand', 'blackberry', 'blackim', 'blah', 'blake', 'blame', 'blank', 'blanket', 'blastin', 'bleak', 'bleh', 'blessed', 'blessget', 'blessing', 'blimey', 'block', 'bloke', 'bloo', 'bloodsend', 'bloody', 'bloomberg', 'bloombergcom', 'blow', 'blown', 'blu', 'blue', 'bluetooth', 'bluetoothhdset', 'blueu', 'bluff', 'bmw', 'board', 'boat', 'body', 'boggy', 'bold', 'bold2', 'bollox', 'boltblue', 'bonus', 'boo', 'book', 'booked', 'booking', 'bookmark', 'bookshelf', 'boost', 'booty', 'bootydelious', 'borderline', 'bored', 'borin', 'boring', 'born', 'borrow', 'bos', 'boston', 'bother', 'bothering', 'bottom', 'bought', 'boughtåóbraindanceåóa', 'bout', 'boutxx', 'bowa', 'bowl', 'box', 'box1146', 'box139', 'box177', 'box245c2150pm', 'box326', 'box334', 'box334sk38ch', 'box39822', 'box403', 'box420', 'box42wr29c', 'box434sk38wp150ppm18', 'box61m60', 'box95qu', 'box97n7qp', 'boy', 'boye', 'boyfriend', 'boytoy', 'bpo', 'brah', 'brain', 'brainless', 'brainy', 'brand', 'brandy', 'braved', 'bray', 'bread', 'breadstick', 'break', 'breakin', 'breaking', 'breath', 'breathe', 'breathe1', 'breeze', 'bridge', 'bridgwater', 'brief', 'bright', 'brilliant', 'brilliant1thingi', 'brilliantly', 'brin', 'bring', 'bringing', 'brings', 'bristol', 'british', 'britney', 'bro', 'broad', 'broadband', 'broke', 'broken', 'bros', 'brothas', 'brother', 'brought', 'browni', 'brownie', 'browse', 'browsin', 'bruce', 'brum', 'bslvyl', 'bsn', 'bstfrnd', 'bt', 'btnational', 'btnationalrate', 'btooth', 'btw', 'buck', 'bud', 'buddy', 'budget', 'buen', 'buff', 'buffet', 'buffy', 'bugis', 'build', 'building', 'bun', 'bunch', 'bundle', 'bunker', 'burger', 'burgundy', 'burial', 'burn', 'burning', 'burnt', 'burrito', 'bus', 'bus822656166382', 'busetop', 'business', 'busy', 'butt', 'buttheres', 'butting', 'button', 'buy', 'buyer', 'buying', 'buzy', 'buzz', 'bx', 'bx420', 'bx420ip45we', 'byatch', 'bye', 'byåóleafcutter', 'c', 'c52', 'cabin', 'cable', 'cafe', 'cage', 'cake', 'caken', 'cal', 'calculated', 'cali', 'calicut', 'call', 'call09050000327', 'call2optout4qf2', 'call2optoutf4q', 'call2optouthf8', 'call2optoutj', 'call2optoutj5q', 'call2optoutlf56', 'call2optoutn9dx', 'callback', 'callcost', 'callcoz', 'calld', 'calldrove', 'called', 'caller', 'callertune', 'callfreefone', 'calling', 'callingforgot', 'callon', 'callsmessagesmissed', 'callså', 'callurgent', 'calm', 'cam', 'camcorder', 'came', 'camera', 'cameravideo', 'campus', 'canada', 'canal', 'canary', 'cancel', 'cancelled', 'cancer', 'candont', 'canlove', 'cannot', 'cannt', 'cant', 'cappuccino', 'captaining', 'car', 'card', 'cardiff', 'cardin', 'care', 'careabout', 'cared', 'career', 'careful', 'carefully', 'carente', 'careumma', 'carlos', 'carlosll', 'carry', 'carryin', 'carso', 'carton', 'cartoon', 'case', 'cash', 'cashbalance', 'cashin', 'cashto', 'casing', 'cast', 'castor', 'cat', 'catch', 'catching', 'category', 'caught', 'cause', 'causing', 'cave', 'caveboy', 'cbe', 'cc', 'cc100pmin', 'ccna', 'cd', 'cdgt', 'celeb', 'celeb4', 'celebrate', 'celebrated', 'celebration', 'cell', 'census', 'center', 'centre', 'cereal', 'ceri', 'certainly', 'certificate', 'cha', 'chachi', 'chain', 'challenge', 'challenging', 'champ', 'champlaxigating', 'champneys', 'chance', 'change', 'changed', 'channel', 'chap', 'character', 'charge', 'charged', 'charity', 'charles', 'charlie', 'chart', 'chase', 'chat', 'chat80155', 'chatter', 'chatting', 'cheap', 'cheaper', 'cheat', 'cheating', 'chechi', 'check', 'checkboxes', 'checked', 'checking', 'cheek', 'cheer', 'cheered', 'cheery', 'cheese', 'cheesy', 'cheetos', 'chef', 'chennai', 'chennaii', 'cheque', 'cherthalain', 'cheyyamoand', 'chg', 'chicken', 'chik', 'chikku', 'chikkuali', 'chikkudb', 'chikkugoing', 'chikkuil', 'chikkuk', 'chikkusimple', 'chikkuwat', 'child', 'childish', 'chill', 'chillaxin', 'chillin', 'china', 'chinatown', 'chinchilla', 'chinese', 'chinky', 'chiong', 'chip', 'chk', 'chocolate', 'choice', 'choose', 'chord', 'chore', 'chosen', 'christ', 'christmas', 'christmasmerry', 'chuckin', 'church', 'cine', 'cinema', 'city', 'citylink', 'cl', 'claim', 'claimcode', 'claire', 'clarification', 'class', 'classic', 'classmate', 'claypot', 'cld', 'clean', 'cleaning', 'clear', 'cleared', 'clearing', 'clever', 'click', 'cliff', 'clip', 'clock', 'clos1', 'close', 'closed', 'closedincluding', 'closer', 'closingdate040902', 'cloth', 'cloud', 'club', 'club4', 'club4mobilescom', 'clue', 'cn', 'cnn', 'co', 'coccooning', 'cochin', 'cock', 'cocksucker', 'code', 'coffee', 'coimbatore', 'coin', 'cold', 'collage', 'colleague', 'collect', 'collected', 'collecting', 'collection', 'colleg', 'college', 'color', 'colour', 'colourredtextcolourtxtstar', 'com', 'combination', 'combine', 'come', 'comedycant', 'comei', 'comfort', 'comin', 'coming', 'comingdown', 'comingtmorow', 'commercial', 'community', 'comp', 'companion', 'company', 'compare', 'compass', 'competition', 'complaining', 'complaint', 'complementary', 'complete', 'completed', 'completely', 'completing', 'complexity', 'complimentary', 'compofstuff', 'comprehensive', 'compromised', 'compulsory', 'computer', 'comuk220cm2', 'con', 'conacted', 'concentrate', 'concentrating', 'concentration', 'concerned', 'concert', 'conclusion', 'condition', 'conduct', 'conference', 'confidence', 'configure', 'confirm', 'confirmd', 'confirmed', 'conform', 'confused', 'confuses', 'congrats', 'congratulation', 'connect', 'connected', 'connection', 'consensus', 'conserve', 'consider', 'considering', 'consistently', 'constant', 'contact', 'contacted', 'content', 'continue', 'contract', 'control', 'converter', 'convey', 'convince', 'convincing', 'cook', 'cooked', 'cooking', 'cooky', 'cool', 'cooped', 'copied', 'coping', 'copy', 'cornwall', 'corporation', 'corrct', 'correct', 'correction', 'correctionor', 'corvette', 'cosign', 'cost', 'costa', 'costing', 'costume', 'costå', 'cough', 'coughing', 'could', 'count', 'countinlots', 'country', 'coupla', 'couple', 'courageous', 'course', 'courtroom', 'cousin', 'cover', 'coveragd', 'coz', 'cozsomtimes', 'cozy', 'cps', 'cr', 'cr9', 'crab', 'crack', 'crammed', 'cramp', 'crap', 'crash', 'crashed', 'crave', 'craving', 'craziest', 'crazy', 'crazyin', 'cream', 'created', 'creative', 'creativity', 'credit', 'credited', 'creep', 'creepy', 'cresubi', 'cricketer', 'cried', 'crisisspk', 'cro1327', 'cross', 'croydon', 'crucial', 'crucify', 'cruise', 'cruisin', 'crush', 'cry', 'csh11', 'cst', 'cstore', 'cthen', 'ctla', 'cuck', 'cud', 'cuddle', 'cuddled', 'cuddling', 'cudnt', 'culture', 'cum', 'cumin', 'cup', 'cuppa', 'curfew', 'curious', 'current', 'currently', 'curry', 'curtsey', 'cust', 'custcare', 'custcare08718720201', 'custom', 'customer', 'cut', 'cute', 'cutefrnd', 'cutest', 'cutting', 'cuz', 'cw25wx', 'cya', 'cyst', 'da', 'daal', 'dabbles', 'dabooks', 'dad', 'daddy', 'dagood', 'dahow', 'dai', 'daily', 'dammit', 'damn', 'dan', 'dance', 'dancin', 'dancing', 'dane', 'dang', 'dao', 'dare', 'dark', 'darlin', 'darling', 'darren', 'dartboard', 'dasara', 'dat', 'data', 'date', 'datebox1282essexcm61xn', 'dating', 'daurgent', 'dave', 'dawhats', 'dawn', 'day', 'dayexcept', 'dayshe', 'daysso', 'dayswill', 'daysì', 'dayu', 'daywith', 'dd', 'de', 'dead', 'deadwell', 'deal', 'dealer', 'dealfarm', 'deam', 'dear', 'dear1', 'dearer', 'deari', 'dearloving', 'dearly', 'dearme', 'dearrakhesh', 'dearregret', 'dearshall', 'deartake', 'death', 'dec', 'december', 'decide', 'decided', 'decimal', 'decision', 'deck', 'decking', 'dedicate', 'dedicated', 'deduct', 'deep', 'deepak', 'deeraj', 'def', 'definite', 'definitely', 'defo', 'degree', 'dehydration', 'del', 'delay', 'delayed', 'delete', 'deleted', 'deliver', 'delivered', 'deliveredtomorrow', 'delivery', 'deltomorrow', 'dem', 'den', 'dena', 'dent', 'dentist', 'department', 'dependable', 'depends', 'deposit', 'depressed', 'der', 'derek', 'derp', 'describe', 'description', 'designation', 'desire', 'desparate', 'desparately', 'desperate', 'despite', 'destiny', 'detail', 'detailed', 'detailsi', 'determined', 'detroit', 'deus', 'develop', 'developed', 'developer', 'devil', 'devouring', 'dey', 'dhina', 'dialogue', 'diamond', 'dick', 'dict', 'dictionary', 'diddy', 'didnt', 'didntgive', 'didnåõt', 'didt', 'die', 'died', 'diesel', 'diet', 'dieting', 'diff', 'differ', 'differbe', 'difference', 'different', 'difficult', 'difficulty', 'dificult', 'digi', 'digital', 'dignity', 'dileepthank', 'dime', 'dimension', 'din', 'dine', 'dined', 'dinero', 'ding', 'dinner', 'dinnermsg', 'dint', 'direct', 'directly', 'director', 'dirt', 'dirty', 'dis', 'disaster', 'disastrous', 'disc', 'disclose', 'disconnect', 'disconnected', 'discount', 'discreet', 'discus', 'discussed', 'dislike', 'dismay', 'dismissial', 'display', 'distance', 'distract', 'disturb', 'disturbing', 'ditto', 'divert', 'division', 'divorce', 'diwali', 'dizzamn', 'dizzee', 'dl', 'dled', 'dload', 'dnt', 'dob', 'dobby', 'dobbys', 'doc', 'dock', 'doctor', 'document', 'dodda', 'dodgey', 'doesnt', 'dog', 'doggin', 'dogging', 'doggy', 'doin', 'doinat', 'doinghow', 'dointerested', 'doke', 'dollar', 'dolld', 'done', 'donewant', 'donno', 'dont', 'dontcha', 'donyt', 'donåõt', 'doom', 'door', 'dorm', 'dose', 'dosomething', 'dot', 'double', 'doublefaggot', 'doublemins', 'doubletxt', 'doubt', 'doug', 'dough', 'down', 'download', 'downloaded', 'downloads', 'downon', 'dp', 'dr', 'dracula', 'drama', 'dramastorms', 'dramatic', 'draw', 'drawplease', 'dream', 'dreamlove', 'dreamsu', 'dreamz', 'dress', 'dressed', 'dresser', 'drink', 'drinkin', 'drinking', 'drinkpa', 'drive', 'driver', 'drivin', 'driving', 'drizzling', 'drms', 'drop', 'dropped', 'drove', 'drpd', 'drug', 'drunk', 'drunkard', 'drunken', 'drvgsto', 'dry', 'dt', 'dub', 'dubsack', 'duchess', 'ducking', 'dude', 'due', 'duffer', 'dun', 'dungerees', 'dunno', 'duo', 'durban', 'durham', 'dusk', 'dust', 'dvd', 'dwn', 'e', 'e14', 'eachother', 'ear', 'earlier', 'earlierwe', 'earliest', 'early', 'earn', 'earning', 'earth', 'easier', 'easily', 'eastenders', 'easter', 'easy', 'eat', 'eaten', 'eatin', 'eating', 'ebay', 'ec2a', 'eckankar', 'ecstasy', 'edge', 'edhae', 'edison', 'edition', 'educational', 'edukkukayee', 'ee', 'eek', 'eerie', 'eerulli', 'effect', 'eg', 'eg23f', 'eg23g', 'egbon', 'egg', 'eggpotato', 'ego', 'eh', 'eh74rr', 'eire', 'either', 'el', 'ela', 'elaborating', 'elaine', 'elaya', 'eldest', 'electricity', 'elephant', 'elliot', 'ello', 'else', 'elsewhere', 'em', 'email', 'emailed', 'embarassed', 'embarassing', 'embarrassed', 'embassy', 'emigrated', 'employee', 'employer', 'empty', 'en', 'enamous', 'enc', 'end', 'ended', 'ending', 'endowed', 'enemy', 'energy', 'eng', 'engaged', 'engalnd', 'engin', 'england', 'english', 'enjoy', 'enjoyed', 'enjoyin', 'enketa', 'enough', 'enter', 'entered', 'enters', 'entertain', 'entertaining', 'entey', 'entirely', 'entitled', 'entrepreneur', 'entropication', 'entry', 'enuff', 'envelope', 'envy', 'epi', 'er', 'ericson', 'ericsson', 'erm', 'err', 'error', 'erupt', 'erything', 'escalator', 'escape', 'especially', 'espell', 'esplanade', 'essential', 'establish', 'eta', 'etc', 'eternal', 'ethnicity', 'ethreats', 'euro', 'euro2004', 'eurodisinc', 'europe', 'evaluation', 'evaporated', 'eve', 'eveb', 'evei', 'even', 'evening', 'event', 'ever', 'every', 'every1', 'everybody', 'everybodys', 'everyboy', 'everyday', 'everyone', 'everyones', 'everyso', 'everythin', 'everything', 'everytime', 'everywhere', 'evil', 'evn', 'evng', 'evr', 'evrydy', 'ew', 'ex', 'exact', 'exactly', 'exam', 'excellent', 'except', 'excited', 'exciting', 'excuse', 'excused', 'exe', 'executive', 'exercise', 'exeter', 'exhaust', 'exhausted', 'exhibition', 'exist', 'exorcist', 'exp', 'expect', 'expected', 'expecting', 'expensive', 'experience', 'experiment', 'expert', 'expired', 'expiredso', 'expires', 'explain', 'explicitly', 'explosive', 'expose', 'express', 'expression', 'ext', 'exterminator', 'extra', 'extreme', 'exwife', 'ey', 'eye', 'eå', 'f', 'fa', 'fab', 'faber', 'face', 'facebook', 'fact', 'factory', 'faded', 'faglord', 'failed', 'fails', 'fainting', 'fair', 'faith', 'fake', 'fakeyes', 'fal', 'falconerf', 'fall', 'falling', 'fals', 'family', 'famous', 'fan', 'fancy', 'fantastic', 'fantasy', 'far', 'farm', 'fast', 'faster', 'fastest', 'fastpls', 'fat', 'father', 'fathima', 'fatty', 'fault', 'faultal', 'faultfed', 'fav', 'fave', 'favor', 'favour', 'favourite', 'fb', 'fear', 'feathery', 'feb', 'february', 'fedex', 'fee', 'feel', 'feeling', 'feelingwavering', 'fell', 'fellow', 'felt', 'female', 'feng', 'festival', 'fetch', 'fetching', 'fever', 'ffffffffff', 'fidalfication', 'field', 'fifa', 'fifteen', 'fifth', 'fifty', 'fight', 'fighting', 'fightng', 'figure', 'figuring', 'file', 'fill', 'filled', 'filling', 'film', 'filth', 'filthy', 'filthyguys', 'final', 'finalise', 'finally', 'finance', 'find', 'finding', 'fine', 'fineinshah', 'finest', 'finger', 'finish', 'finished', 'finishing', 'finn', 'fire', 'firefox', 'fireplace', 'firesare', 'first', 'fish', 'fishhead', 'fishrman', 'fit', 'five', 'fix', 'fixed', 'flag', 'flaked', 'flaky', 'flame', 'flash', 'flat', 'flea', 'fletcher', 'flight', 'flim', 'flip', 'flirt', 'flirting', 'flood', 'floor', 'flow', 'flower', 'flowing', 'fluid', 'flung', 'flurry', 'flute', 'flying', 'flyng', 'fml', 'fmyou', 'fo', 'foley', 'folk', 'follow', 'followed', 'followin', 'following', 'fondly', 'fone', 'fones', 'food', 'fool', 'fooled', 'foot', 'football', 'footblcrckt', 'footie', 'footprint', 'force', 'foreign', 'forever', 'forevr', 'forfeit', 'forget', 'forgets', 'forgive', 'forgiveness', 'forgot', 'forgotten', 'formal', 'formallypls', 'format', 'formatting', 'formclark', 'forum', 'forward', 'forwarded', 'forwarding', 'found', 'four', 'fourth', 'fox', 'fr', 'fraction', 'fran', 'frankgood', 'franyxxxxx', 'fraud', 'freak', 'freaked', 'fredericksburg', 'free', 'free2day', 'freedom', 'freefone', 'freely', 'freemessage', 'freemsg', 'freemsgfeelin', 'freenokia', 'freephone', 'freeringtone', 'freeringtonereply', 'freesend', 'freezing', 'fren', 'french', 'frens', 'fresh', 'fresher', 'fret', 'fri', 'friday', 'fridayhope', 'fridge', 'friend', 'friendsare', 'friendship', 'friendshipmotherfatherteacherschildrens', 'fring', 'fringe', 'frm', 'frnd', 'frnds', 'frndship', 'frndshp', 'frndsship', 'frndz', 'frnt', 'fro', 'frog', 'fromm', 'front', 'frosty', 'frying', 'ft', 'fuck', 'fuckin', 'fucking', 'fudge', 'fujitsu', 'ful', 'full', 'fullonsmscom', 'fun', 'function', 'fundamental', 'funeral', 'funk', 'funny', 'furniture', 'fusion', 'future', 'fwiw', 'fyi', 'g', 'g696ga', 'ga', 'gail', 'gal', 'galileo', 'game', 'gamestar', 'ganesh', 'gang', 'gap', 'garage', 'garbage', 'gari', 'gary', 'gas', 'gate', 'gautham', 'gave', 'gay', 'gaytextbuddycom', 'gaze', 'gbp', 'gbp150week', 'gbp450week', 'gbp5month', 'gbpsms', 'gbpweek', 'gd', 'gdnow', 'gdthe', 'ge', 'gee', 'geeee', 'geelater', 'gei', 'gender', 'generally', 'genius', 'gent', 'gentle', 'gentleman', 'genuine', 'george', 'gep', 'germany', 'get', 'geting', 'getsleep', 'getstop', 'gettin', 'getting', 'getzedcouk', 'gf', 'ghodbandar', 'ghost', 'gibbs', 'gibe', 'gift', 'giggle', 'gimme', 'gimmi', 'gin', 'girl', 'girld', 'girlfrnd', 'girlie', 'gist', 'giv', 'give', 'giving', 'glad', 'glasgow', 'glass', 'glo', 'global', 'glory', 'gloucesterroad', 'gm', 'gmgngegn', 'gmw', 'gn', 'go', 'goal', 'goalsteam', 'gobi', 'god', 'godi', 'godnot', 'goggles', 'goin', 'goin2bed', 'going', 'gold', 'golddigger', 'golden', 'gon', 'gona', 'gone', 'goneu', 'gonna', 'gonnamissu', 'good', 'gooddhanush', 'goodenvironment', 'goodevening', 'goodfriend', 'goodmate', 'goodmorning', 'goodmorningmy', 'goodnight', 'goodnite', 'goodnoon', 'goodo', 'goodtimeoli', 'goody', 'google', 'gorgeous', 'gossip', 'gossx', 'got', 'gota', 'gotany', 'goto', 'gotta', 'gotten', 'gotto', 'govtinstituitions', 'gowait', 'gower', 'gpu', 'gr8', 'gr8fun', 'grab', 'grace', 'grahmbell', 'gram', 'grand', 'grandfather', 'grandma', 'granite', 'grateful', 'grave', 'gravel', 'gravity', 'gray', 'great', 'greatbhaji', 'greatbye', 'greatness', 'greece', 'green', 'greeni', 'greet', 'greeting', 'grin', 'grinder', 'grinule', 'grl', 'ground', 'groundamla', 'group', 'grow', 'growing', 'grown', 'grr', 'grumpy', 'gt', 'gua', 'guaranteed', 'gud', 'gudk', 'gudni8', 'gudnitetcpractice', 'gudnyt', 'guess', 'guessin', 'guide', 'guild', 'guilty', 'guitar', 'gumbys', 'guoyang', 'gurl', 'guy', 'gv', 'gym', 'h', 'ha', 'habbahw', 'hack', 'hadnt', 'hadya', 'haf', 'haha', 'hahatake', 'hai', 'hail', 'hair', 'hairdresser', 'half', 'half8th', 'hall', 'halla', 'hallaq', 'halloween', 'ham', 'hamster', 'hand', 'handed', 'handing', 'handle', 'handset', 'handsome', 'handsomes', 'hang', 'hangin', 'hanging', 'hank', 'hanumanji', 'happen', 'happend', 'happened', 'happening', 'happens', 'happier', 'happily', 'happiness', 'happy', 'hard', 'hardcore', 'hardest', 'hardly', 'hari', 'harishs', 'harri', 'harry', 'hasbroin', 'hasnt', 'hate', 'haul', 'hav', 'havent', 'haventcn', 'havenåõt', 'havin', 'havnt', 'hcl', 'hdd', 'he', 'head', 'headache', 'headin', 'heading', 'headstart', 'heal', 'healer', 'hear', 'heard', 'hearing', 'heart', 'heartsnot', 'heater', 'heavy', 'hectic', 'hee', 'heehee', 'height', 'held', 'helen', 'hell', 'hella', 'hello', 'helloooo', 'helloyou', 'help', 'help08700469649', 'help08700621170150p', 'help08712400602450p', 'help08714742804', 'helpful', 'helpline', 'hence', 'hep', 'herepls', 'hereremember', 'heri', 'herlove', 'hermy', 'heron', 'hershe', 'herwill', 'hesitate', 'hesitation', 'hex', 'hey', 'heygreat', 'heåõs', 'hgsuite3422lands', 'hgsuite3422landsroww1j6hl', 'hi', 'hicts', 'hiding', 'high', 'highest', 'hilariousalso', 'hill', 'hillsborough', 'himso', 'himthen', 'hint', 'hip', 'hire', 'history', 'hit', 'hitman', 'hitteranyway', 'hiya', 'hl', 'hlp', 'hm', 'hme', 'hmm', 'hmmbad', 'hmmm', 'hmmmhow', 'hmmmkbut', 'hmmmy', 'hmv', 'hmv1', 'ho', 'hockey', 'hogidhechinnu', 'hogli', 'hogolo', 'hol', 'hold', 'holder', 'holding', 'holiday', 'holidayso', 'holla', 'hols', 'holy', 'home', 'homebut', 'homecheck', 'homeleft', 'homelove', 'homeowner', 'hon', 'honestly', 'honesty', 'honey', 'honeybee', 'honeydid', 'honeymoon', 'hook', 'hooked', 'hoop', 'hop', 'hope', 'hoped', 'hopeful', 'hopefully', 'hoping', 'hor', 'horniest', 'horny', 'horo', 'horrible', 'hospital', 'hostbased', 'hostel', 'hot', 'hotel', 'hotmix', 'hottest', 'hour', 'house', 'housemaid', 'housewife', 'housework', 'housing', 'howard', 'howdy', 'however', 'hows', 'howve', 'howz', 'hp', 'hp20', 'hppnss', 'hr', 'hrishi', 'html', 'httpalto18coukwavewaveaspo44345', 'httpcareers', 'httpdoit', 'httpgotbabescouk', 'httpwap', 'httpwwwbubbletextcom', 'httpwwwetlpcoukexpressoffer', 'httpwwwetlpcoukreward', 'httpwwwurawinnercom', 'huai', 'hubby', 'hug', 'huge', 'hugh', 'huh', 'huiming', 'hum', 'human', 'hun', 'hundred', 'hundredhe', 'hungover', 'hungry', 'hunk', 'hunlove', 'hunny', 'hunnyhope', 'hunonbus', 'hunt', 'hunting', 'hurricane', 'hurried', 'hurry', 'hurt', 'hurting', 'husband', 'hussey', 'hv', 'hw', 'hwd', 'hyde', 'hypotheticalhuagauahahuagahyuhagga', 'ia', 'iam', 'ibh', 'ibhltd', 'ibiza', 'ibm', 'ibn', 'ibuprofen', 'ic', 'iccha', 'ice', 'icic', 'icicibankcom', 'icon', 'id', 'idc', 'idea', 'ideal', 'identifier', 'idiot', 'idk', 'idp', 'idu', 'ifink', 'ignorant', 'ignore', 'ijust', 'ikea', 'iknow', 'il', 'ill', 'ilol', 'im', 'imaginationmy', 'imagine', 'imin', 'imma', 'immediately', 'immunisation', 'imp', 'impatient', 'important', 'importantly', 'imposed', 'impossible', 'imposter', 'impress', 'impressively', 'improve', 'improved', 'imprtant', 'in2', 'inc', 'inch', 'incident', 'inclusive', 'incomm', 'inconsiderate', 'incorrect', 'inde', 'indeed', 'independence', 'independently', 'india', 'indian', 'individualtime', 'indyarockscom', 'inever', 'infernal', 'info', 'inforingtonekingcouk', 'inform', 'information', 'informed', 'infotxt82228couk', 'infowww100percentrealcom', 'infra', 'infront', 'ing', 'ingredient', 'initiate', 'inlude', 'inning', 'innu', 'inour', 'inperialmusic', 'inpersonation', 'inr', 'insect', 'insha', 'inside', 'inspection', 'inst', 'install', 'installation', 'instant', 'instantly', 'instead', 'instruction', 'insurance', 'intelligent', 'intend', 'intention', 'interest', 'interested', 'interesting', 'interflora', 'interfued', 'internet', 'internetservice', 'interview', 'intha', 'intimate', 'intrepid', 'intro', 'intrude', 'invest', 'invitation', 'invite', 'invited', 'inviting', 'invnted', 'invoice', 'involve', 'iouri', 'ip', 'ip4', 'ipaditan', 'ipads', 'ipod', 'iq', 'ireneere', 'iron', 'ironing', 'irritated', 'irritates', 'irritating', 'isaiahd', 'iscoming', 'ish', 'ishtamayoohappy', 'island', 'isnt', 'issue', 'italian', 'itboth', 'itcould', 'item', 'iter', 'ithis', 'itleave', 'itlet', 'itll', 'itmail', 'itmay', 'itor', 'itplspls', 'itried2tell', 'itu', 'itxt', 'itz', 'ivatte', 'ive', 'iwana', 'iwasmarinethatåõs', 'iz', 'izzit', 'iåõllspeak', 'iåõm', 'j', 'j89', 'jabo', 'jack', 'jackpot', 'jackson', 'jacuzzi', 'jada', 'jaklin', 'james', 'jamsterget', 'jamz', 'jan', 'janarige', 'jane', 'january', 'janx', 'jap', 'japanese', 'jason', 'java', 'jay', 'jaya', 'jaykwon', 'jazz', 'jd', 'je', 'jealous', 'jean', 'jeetey', 'jelly', 'jenne', 'jenny', 'jeremiah', 'jeri', 'jerry', 'jersey', 'jess', 'jesus', 'jet', 'jez', 'jia', 'jiayin', 'jide', 'jiu', 'jjc', 'jo', 'joanna', 'job', 'jog', 'john', 'johnåósounds', 'join', 'joined', 'joinedhope', 'joining', 'joke', 'jokin', 'joking', 'jolly', 'jolt', 'jon', 'jordan', 'jordantxt', 'jos', 'jot', 'journey', 'joy', 'jp', 'jst', 'jstfrnd', 'juan', 'juicy', 'juliana', 'july', 'jump', 'june', 'jungle', 'junna', 'jurong', 'jus', 'justbeen', 'justify', 'juz', 'k', 'k52', 'k61', 'k718', 'kaaj', 'kadeem', 'kaiez', 'kaitlyn', 'kalisidare', 'kall', 'kallis', 'kalstiyathen', 'kama', 'kanagu', 'kano', 'kanowhr', 'kate', 'kavalan', 'kay', 'kb', 'kbut', 'kdo', 'ke', 'keen', 'keep', 'keeping', 'kegger', 'keluviri', 'ken', 'kent', 'kept', 'kerala', 'keralacircle', 'kettoda', 'key', 'keyword', 'kg', 'kgive', 'kgood', 'ki', 'kicchu', 'kick', 'kickoff', 'kid', 'kidding', 'kidz', 'kill', 'killed', 'killing', 'kim', 'kind', 'kinda', 'kindly', 'king', 'kisi', 'kiss', 'kissing', 'kittum', 'kitty', 'kkadvance', 'kkany', 'kkapo', 'kkare', 'kkfrom', 'kkgoodstudy', 'kkhow', 'kkwhat', 'kkwhen', 'kkwhere', 'kkwhy', 'kkyesterday', 'kl341', 'knackered', 'knee', 'knew', 'knickers', 'knock', 'knocking', 'know', 'knowhe', 'knowing', 'known', 'knowthis', 'knowwait', 'knowyetunde', 'knw', 'ko', 'kochi', 'kodstini', 'kodthini', 'korche', 'korli', 'korte', 'kr', 'kthen', 'ktv', 'ku', 'kuch', 'kudiyarasu', 'kusruthi', 'kvb', 'l8', 'l8r', 'l8tr', 'la', 'la32wu', 'lab', 'labor', 'lacking', 'lacsthats', 'lacsthere', 'laden', 'lady', 'lager', 'laid', 'laidwant', 'lakh', 'lambda', 'land', 'landline', 'landlineonly', 'langport', 'lanre', 'lap', 'laptop', 'lar', 'lara', 'largest', 'lark', 'lasagna', 'last', 'lastest', 'lasting', 'late', 'latei', 'lately', 'latelyxxx', 'later', 'lateso', 'latest', 'latr', 'laugh', 'laughed', 'laughing', 'laurie', 'law', 'laxinorficated', 'lay', 'laying', 'lazy', 'lccltd', 'ldn', 'ldnw15h', 'le', 'lead', 'leaf', 'league', 'learn', 'learned', 'least', 'leave', 'leaving', 'lect', 'lecture', 'left', 'leftover', 'leg', 'legal', 'leh', 'lei', 'lekdog', 'lemme', 'length', 'leona', 'lesser', 'lesson', 'let', 'letter', 'leu', 'level', 'liao', 'libertine', 'library', 'lick', 'lie', 'life', 'lifeand', 'lifebook', 'lifeis', 'lifethis', 'lifetime', 'lifpartnr', 'lift', 'lifted', 'lifting', 'light', 'lighter', 'lightly', 'lik', 'like', 'liked', 'likely', 'likeyour', 'likingbe', 'lily', 'lim', 'limited', 'lindsay', 'line', 'lined', 'linerental', 'lingerie', 'link', 'linux', 'lion', 'lionm', 'lionp', 'lip', 'lipo', 'liquor', 'list', 'listed', 'listen', 'listener', 'listening', 'listening2the', 'listn', 'little', 'live', 'lived', 'liverpool', 'living', 'lm', 'lmao', 'lmaonice', 'lnly', 'lo', 'load', 'loan', 'lobby', 'local', 'location', 'locaxx', 'lock', 'lodge', 'lodging', 'log', 'login', 'logo', 'logoff', 'logopic', 'loko', 'lol', 'lolnice', 'lololo', 'london', 'lonely', 'long', 'longer', 'look', 'lookatme', 'looked', 'lookin', 'looking', 'lool', 'loose', 'lor', 'lord', 'lose', 'loses', 'losing', 'lost', 'lot', 'lotr', 'lotsly', 'lotta', 'lotto', 'lotwill', 'loud', 'lounge', 'lousy', 'lovable', 'love', 'loveable', 'loved', 'lovejen', 'lovely', 'loveme', 'lover', 'loverboy', 'loving', 'low', 'lowcost', 'lower', 'loxahatchee', 'loyalty', 'ls1', 'ls15hb', 'ls278bb', 'lt', 'lt3', 'ltd', 'ltdecimalgt', 'ltdhelpdesk', 'ltgt', 'lttimegt', 'lttrs', 'lturlgt', 'lubly', 'luck', 'luckily', 'lucky', 'lucozade', 'lucozadecoukwrc', 'lucy', 'lucyxx', 'luks', 'lul', 'lunch', 'lunchtime', 'lunchyou', 'luton', 'luv', 'luvd', 'lux', 'luxury', 'lv', 'lvblefrnd', 'lyf', 'lyfu', 'lying', 'lyk', 'm', 'm221bp', 'm26', 'm263uz', 'm39m51', 'm8', 'm8s', 'm95', 'ma', 'maaaan', 'maangalyam', 'mac', 'macedonia', 'machan', 'machine', 'macho', 'mack', 'mad', 'mad1', 'mad2', 'made', 'madodu', 'madoke', 'madstini', 'madthen', 'mag', 'maga', 'magic', 'magical', 'mah', 'mahal', 'mail', 'mailbox', 'main', 'maintain', 'major', 'make', 'makiing', 'makin', 'making', 'malaria', 'malarky', 'male', 'mall', 'mallika', 'man', 'manage', 'management', 'manda', 'mandan', 'mandy', 'maneesha', 'manege', 'maniac', 'manual', 'many', 'map', 'maraikara', 'march', 'maretare', 'margaret', 'mark', 'market', 'marking', 'marley', 'marriage', 'marriageprogram', 'married', 'marry', 'marsms', 'mary', 'massage', 'massagetiepos', 'master', 'masteriastering', 'mat', 'match', 'matched', 'mate', 'math', 'mathematics', 'matra', 'matric', 'matrix3', 'matter', 'mattermsg', 'matthew', 'matured', 'max10mins', 'max6month', 'maximize', 'maximum', 'maxå', 'may', 'mayb', 'maybe', 'mb', 'mc', 'mca', 'mcr', 'meal', 'mean', 'meaning', 'meaningful', 'meaningless', 'meant', 'meanwhile', 'measure', 'meat', 'mecause', 'med', 'medical', 'medicine', 'medont', 'meet', 'meetgreet', 'meetin', 'meeting', 'meetins', 'meh', 'mei', 'meim', 'meive', 'mel', 'melike', 'melle', 'melnite', 'melody', 'melt', 'member', 'membership', 'memorable', 'memory', 'men', 'meneed', 'mental', 'mention', 'mentionedtomorrow', 'menu', 'meow', 'meowd', 'merely', 'merememberin', 'merry', 'meshe', 'message', 'messaged', 'messageits', 'messageno', 'messagesome', 'messagestext', 'messaging', 'messed', 'messenger', 'met', 'meummifyingbye', 'mf', 'mfl', 'mi', 'mia', 'mid', 'middle', 'midnight', 'mids', 'might', 'miiiiiiissssssssss', 'milk', 'miller', 'million', 'miltazindgi', 'min', 'minapn', 'mind', 'minded', 'mine', 'mineall', 'minecraft', 'mini', 'minimum', 'minnaminunginte', 'mins100txtmth', 'mint', 'minus', 'minute', 'minuts', 'miracle', 'misbehaved', 'mising', 'miss', 'misscall', 'missed', 'missin', 'missing', 'mission', 'missionary', 'missunderstding', 'missy', 'mist', 'mistake', 'mite', 'mittelschmertz', 'mix', 'mk45', 'ml', 'mm', 'mmm', 'mmmm', 'mmmmm', 'mmmmmm', 'mmsto', 'mo', 'moan', 'mob', 'mobcudb', 'mobile', 'mobilesdirect', 'mobilesvary', 'mobileupd8', 'mobno', 'mobsicom', 'moby', 'mode', 'model', 'modelsony', 'modl', 'module', 'mofo', 'moji', 'mojibiola', 'molestedsomeone', 'mom', 'moment', 'mon', 'monday', 'mondaynxt', 'moneeppolum', 'money', 'monkeespeople', 'monkey', 'monkeyaround', 'monl8rsx', 'mono', 'monoc', 'month', 'monthly', 'monthlysubscription50pmsg', 'monthnot', 'mood', 'moon', 'moral', 'moraldont', 'moralone', 'morn', 'morning', 'morningtake', 'morphine', 'moseley', 'mostly', 'mother', 'motive', 'motorola', 'mouth', 'move', 'moved', 'movie', 'moviewat', 'mp3', 'mr', 'mrng', 'mrt', 'mrur', 'msg', 'msg150p', 'msging', 'msgrcvd18', 'msgs150p', 'msgsd', 'msgsubscription', 'msgwe', 'msn', 'mssuman', 'mt', 'mths', 'mu', 'much', 'muchand', 'muchi', 'muchxxlove', 'multiply', 'mum', 'mummy', 'mumtaz', 'mumtazs', 'mundhe', 'munsters', 'murali', 'murder', 'murdered', 'murderer', 'mush', 'mushy', 'music', 'musical', 'must', 'musthu', 'mutai', 'mutation', 'muz', 'mwahs', 'mylife', 'mymoby', 'mystery', 'mytonecomenjoy', 'n', 'na', 'nacho', 'nag', 'nagar', 'nah', 'nahi', 'naked', 'nalla', 'nalli', 'name', 'name1', 'name2', 'named', 'namemy', 'nammanna', 'nan', 'nange', 'nap', 'nasdaq', 'naseeb', 'nasty', 'national', 'nationwide', 'nattil', 'natuition', 'natural', 'nature', 'naughty', 'nauseous', 'nav', 'nb', 'nd', 'ne', 'near', 'nearby', 'nearer', 'nearly', 'necesity', 'necessary', 'necessity', 'neck', 'necklace', 'ned', 'need', 'needed', 'neededsalary', 'needing', 'needy', 'neft', 'neglet', 'neighbor', 'neither', 'nelson', 'neo69', 'net', 'netcollex', 'netflix', 'nething', 'netno', 'network', 'networking', 'neva', 'never', 'nevering', 'neville', 'new', 'newest', 'newport', 'newquaysend', 'news', 'newsby', 'newscaster', 'newshype', 'newspaper', 'next', 'ngage', 'ni8', 'nic', 'nice', 'nicenicehow', 'nichols', 'nick', 'nickey', 'nigeria', 'nigh', 'night', 'nighters', 'nightnight', 'nightnobody', 'nigpun', 'nigro', 'nike', 'nikiyu4net', 'nimbomsons', 'nimya', 'nimyapls', 'nino', 'nit', 'nite', 'nite2', 'nitro', 'nitros', 'nitz', 'no', 'no1', 'no434', 'no81151', 'no83355', 'nobbing', 'noble', 'nobody', 'nobut', 'noe', 'nohe', 'noi', 'noisy', 'nok', 'nokia', 'nokia150p', 'nokia6600', 'nokia6650', 'nokias', 'noline', 'nolistened2the', 'noncomittal', 'none', 'nookii', 'noon', 'nooooooo', 'nope', 'nora', 'nordstrom', 'norm', 'norm150ptone', 'normal', 'normally', 'northampton', 'nosh', 'nosy', 'note', 'notebook', 'nothing', 'nothis', 'notice', 'notification', 'notixiquating', 'noun', 'novelty', 'november', 'now4t', 'nowadays', 'nowadayslot', 'nowi', 'nownyt', 'nowonion', 'nowreply', 'nowsavamobmember', 'nowsend', 'nowsky', 'nowstill', 'nowtcs', 'nowuse', 'nt', 'ntswt', 'ntt', 'ntwk', 'nu', 'nuclear', 'nuerologist', 'num', 'number', 'nurse', 'nursery', 'nurungu', 'nver', 'nvm', 'nvq', 'nw', 'nxt', 'ny', 'nyc', 'nydc', 'nyt', 'nytec2a3lpmsg150p', 'nyusa', 'nz', 'o2', 'obedient', 'obese', 'objection', 'oblisingately', 'obviously', 'occasion', 'occupy', 'occur', 'oceand', 'oclock', 'october', 'odalebeku', 'odi', 'offcampus', 'offer', 'offered', 'offering', 'offerthe', 'office', 'officeunderstand', 'officewhats', 'official', 'officially', 'ofice', 'oficegot', 'ofsi', 'often', 'ofå', 'ogunrinde', 'oh', 'ohas', 'ohi', 'oi', 'oic', 'oil', 'ok', 'okay', 'okcome', 'okden', 'okey', 'okie', 'okies', 'okmail', 'okok', 'oktake', 'okthenwhats', 'okvarunnathu', 'ola', 'olage', 'old', 'ollubut', 'olol', 'omg', 'omw', 'onam', 'ondu', 'one', 'oneta', 'oni', 'onionrs', 'onit', 'online', 'onlinewhy', 'onluy', 'only1more', 'onto', 'onum', 'onwards', 'ooh', 'oooh', 'oooooh', 'oops', 'open', 'opened', 'openin', 'opening', 'operate', 'operator', 'opinion', 'opportunity', 'opportunityall', 'opposed', 'opps', 'opt', 'opted', 'optimistic', 'option', 'optout', 'or', 'or2optouthv9d', 'or2stoptxt', 'oral', 'orange', 'orangei', 'orc', 'orchard', 'order', 'ordered', 'ore', 'oredi', 'oreo', 'organise', 'organizer', 'original', 'orno', 'oru', 'oscar', 'oso', 'others', 'otherwise', 'otside', 'oursso', 'outage', 'outbid', 'outdoors', 'outfit', 'outgoing', 'outif', 'outl8r', 'outrageous', 'outreach', 'outside', 'outstanding', 'outta', 'ovarian', 'overa', 'overdose', 'overheating', 'overtime', 'ovr', 'ovulation', 'owe', 'owl', 'owned', 'owns', 'owo', 'oyea', 'oz', 'p', 'pa', 'pace', 'pack', 'package', 'packalso', 'packing', 'page', 'pai', 'paid', 'pain', 'painful', 'painit', 'painting', 'pale', 'palm', 'pan', 'panasonic', 'pandy', 'panicks', 'panren', 'pansy', 'pant', 'papa', 'paper', 'paperwork', 'paracetamol', 'parachute', 'paragraph', 'paranoid', 'parchi', 'parco', 'parent', 'parisfree', 'park', 'park6ph', 'parked', 'parkin', 'part', 'particular', 'particularly', 'partner', 'partnership', 'party', 'paru', 'pas', 'pass', 'passable', 'passed', 'passion', 'passionate', 'passport', 'passthey', 'password', 'passwordsatmsms', 'past', 'path', 'pathaya', 'pattern', 'patty', 'pay', 'payasam', 'payback', 'payee', 'paying', 'payment', 'payoh', 'paypal', 'pc', 'peace', 'peaceful', 'peak', 'pear', 'pehle', 'pei', 'pen', 'pending', 'pendingi', 'penis', 'penny', 'people', 'per', 'percentage', 'perfect', 'perform', 'performance', 'performed', 'perhaps', 'peril', 'period', 'permanent', 'permission', 'perpetual', 'persevered', 'person', 'person2die', 'personal', 'personality', 'personally', 'personmeet', 'pest', 'pete', 'petey', 'peteynoiåõm', 'petrolrs', 'pg', 'ph', 'ph08700435505150p', 'ph08704050406', 'pharmacy', 'phasing', 'phd', 'phews', 'phil', 'philosophy', 'phne', 'phoenix', 'phone', 'phoned', 'photo', 'php', 'physic', 'piah', 'pic', 'pick', 'picked', 'picking', 'pickle', 'picsfree1', 'picture', 'pictxt', 'pie', 'piece', 'pierre', 'pig', 'piggy', 'pilate', 'pile', 'pimpleseven', 'pin', 'pink', 'pinku', 'pissed', 'pix', 'pixel', 'pizza', 'pl', 'place', 'placed', 'placement', 'placeno', 'plaid', 'plan', 'plane', 'planeti', 'planning', 'plate', 'platt', 'play', 'played', 'player', 'playerwhy', 'playin', 'playing', 'playng', 'plaza', 'pleasant', 'please', 'pleased', 'pleasure', 'plenty', 'plm', 'ploughing', 'pls', 'plsi', 'plum', 'plumbingremixed', 'plural', 'plus', 'plyr', 'plz', 'pm', 'pmt', 'po', 'pobox', 'pobox1', 'pobox11414tcrw1', 'pobox12n146tf15', 'pobox12n146tf150p', 'pobox334', 'pobox36504w45wq', 'pobox365o4w45wq', 'pobox45w2tg150p', 'pobox84', 'poboxox36504w45wq', 'pocket', 'pocketbabecouk', 'pocy', 'pod', 'poem', 'poet', 'point', 'poker', 'poking', 'pokkiri', 'pole', 'police', 'poly', 'poly200p', 'poly3', 'polyc', 'polyph', 'polyphonic', 'polys', 'pongal', 'pongaldo', 'ponnungale', 'poo', 'pookie', 'pool', 'poop', 'poor', 'poortiyagi', 'pop', 'popcorn', 'popped', 'popping', 'porn', 'porridge', 'posh', 'position', 'possession', 'possessive', 'possessiveness', 'possible', 'possiblehope', 'possibly', 'post', 'postal', 'postcard', 'postcode', 'posted', 'posterode', 'postponed', 'potential', 'potter', 'pouch', 'pound', 'pounded', 'poured', 'pours', 'pout', 'power', 'poyyarikaturkolathupalayamunjalur', 'ppl', 'pple', 'ppm', 'ppm150', 'ppt150x3normal', 'prabhaim', 'prabu', 'pract', 'practical', 'practice', 'practicing', 'practicum', 'practising', 'praise', 'prakesh', 'praps', 'prasad', 'pray', 'prayer', 'prayingwill', 'pre', 'predict', 'predicting', 'prediction', 'prefer', 'preferably', 'prem', 'premier', 'premium', 'prepaid', 'prepare', 'prepared', 'prepayment', 'prescripiton', 'prescription', 'presence', 'present', 'press', 'prestige', 'pretend', 'pretsorginta', 'pretsovru', 'pretty', 'prevent', 'preview', 'previously', 'prey', 'price', 'priceso', 'priest', 'princess', 'printed', 'printing', 'priscillas', 'privacy', 'private', 'prix', 'prize', 'pro', 'prob', 'probably', 'problem', 'problematic', 'problemfree', 'problum', 'probs', 'probthat', 'process', 'processed', 'processexcellent', 'processits', 'processnetworking', 'prod', 'product', 'professional', 'professor', 'profile', 'profit', 'program', 'progress', 'project', 'prolly', 'prominent', 'promise', 'promo', 'promotion', 'prompt', 'promptly', 'proof', 'proove', 'prop', 'proper', 'properly', 'propose', 'propsd', 'prospect', 'protect', 'proverb', 'provided', 'provider', 'province', 'ps3', 'psychiatrist', 'psychologist', 'ptbo', 'pub', 'public', 'publish', 'pudunga', 'pull', 'punch', 'punish', 'purchase', 'purity', 'purpleu', 'purpose', 'purse', 'push', 'pushbutton', 'pussy', 'put', 'puttin', 'putting', 'puzzeles', 'puzzle', 'px3748', 'på', 'q', 'qatar', 'qi', 'qing', 'qlynnbv', 'quality', 'que', 'queen', 'question', 'questioned', 'questionstd', 'quick', 'quickly', 'quiet', 'quit', 'quite', 'quiz', 'quizclub', 'quizwin', 'quote', 'quoting', 'r', 'r836', 'racal', 'racing', 'radiator', 'radio', 'raiden', 'railway', 'rain', 'raining', 'raise', 'raj', 'raja', 'rajini', 'rajipls', 'rajnikant', 'rakhesh', 'raksha', 'rally', 'ralphs', 'ran', 'random', 'randomlly', 'randomly', 'randy', 'rang', 'range', 'ranjith', 'raping', 'rate', 'ratetcs', 'rather', 'ratio', 'rawring', 'ray', 'rcbbattle', 'rcd', 'rct', 'rcv', 'rcvd', 'rd', 'reach', 'reached', 'reaching', 'reacting', 'reaction', 'read', 'reader', 'readiness', 'reading', 'ready', 'readyall', 'real', 'real1', 'realised', 'reality', 'realize', 'realized', 'realizes', 'really', 'realy', 'reason', 'rebel', 'reboot', 'rebooting', 'rebtel', 'rec', 'recd', 'recdthirtyeight', 'receipt', 'receive', 'receivea', 'received', 'receiving', 'recent', 'recently', 'recession', 'recharge', 'rechargerakhesh', 'recieve', 'recognise', 'recognises', 'record', 'recorded', 'recovery', 'recycling', 'red', 'redeemable', 'redim', 'ref', 'ref9307622', 'reference', 'refilled', 'reflection', 'reformat', 'refreshed', 'refund', 'refundedthis', 'refused', 'reg', 'regard', 'regarding', 'register', 'registered', 'registration', 'regret', 'regretted', 'regular', 'rejected', 'related', 'relationshipits', 'relative', 'relax', 'relaxing', 'released', 'reliant', 'relieved', 'reltnship', 'rem', 'remain', 'remains', 'remember', 'remembered', 'rememberi', 'remembr', 'remembrs', 'remind', 'reminded', 'reminder', 'reminding', 'reminds', 'removal', 'remove', 'removed', 'renewal', 'rent', 'rental', 'renting', 'rentl', 'repair', 'repent', 'replacement', 'replacing', 'replied', 'reply', 'replybe', 'replying', 'replys150', 'report', 'reppurcussions', 'representative', 'republic', 'request', 'required', 'requirement', 'requires', 'reschedule', 'research', 'resend', 'reservation', 'reserve', 'reserved', 'reset', 'residency', 'reslove', 'resolution', 'respect', 'responcewhat', 'respond', 'responding', 'response', 'responsibility', 'responsible', 'rest', 'restaurant', 'restock', 'restocked', 'restrict', 'restriction', 'restuwud', 'resub', 'resubbing', 'result', 'retard', 'retired', 'retrieve', 'return', 'returned', 'returning', 'reunion', 'reveal', 'revealed', 'reverse', 'review', 'reward', 'rg21', 'rgds', 'rhythm', 'rice', 'rich', 'ride', 'right', 'rightio', 'rightly', 'riley', 'rimac', 'ring', 'ringsreturn', 'ringtone', 'ringtoneget', 'ringtoneking', 'ringtones', 'rinu', 'rip', 'risk', 'rite', 'river', 'road', 'roadsrvx', 'roast', 'rob', 'robs', 'rock', 'rodger', 'rofl', 'roger', 'role', 'rolled', 'romantic', 'romcapspam', 'ron', 'room', 'roommate', 'rose', 'rough', 'round', 'rounderso', 'row', 'roww1j6hl', 'roww1jhl', 'rp176781', 'rply', 'rr', 'rreveal', 'rstm', 'rtking', 'rtm', 'ru', 'rub', 'rude', 'rugby', 'ruin', 'ruining', 'rule', 'rum', 'rummer', 'rumour', 'run', 'running', 'runninglets', 'rupaul', 'rush', 'rv', 'ryan', 'ryder', 's3xy', 's89', 'sac', 'sachin', 'sack', 'sacked', 'sacrifice', 'sad', 'sae', 'saeed', 'safe', 'safely', 'safety', 'said', 'saidif', 'sake', 'salam', 'salary', 'sale', 'salespee', 'salon', 'sam', 'samantha', 'sambarlife', 'sameso', 'sankranti', 'santha', 'sao', 'sapna', 'sar', 'sarcasm', 'sarcastic', 'saristar', 'sariyag', 'sary', 'sat', 'satanic', 'satisfied', 'satisfy', 'satlove', 'satsgettin', 'satsoundåõs', 'saturday', 'satì', 'saucy', 'savamob', 'save', 'saved', 'saw', 'say', 'sayask', 'sayin', 'saying', 'sc', 'scammer', 'scarcasim', 'scared', 'scary', 'scenario', 'scenery', 'sch', 'schedule', 'school', 'scold', 'scorable', 'score', 'scoring', 'scotch', 'scotland', 'scrappy', 'scratch', 'scratching', 'scream', 'screamed', 'screaming', 'screen', 'screwd', 'scrounge', 'sculpture', 'sd', 'sdryb8i', 'se', 'sea', 'search', 'searching', 'season', 'seat', 'sec', 'second', 'secondary', 'secret', 'secretly', 'section', 'secured', 'sed', 'see', 'seeing', 'seeker', 'seeking', 'seem', 'seemed', 'seems', 'seen', 'seeno', 'sef', 'seh', 'sehwag', 'selected', 'selection', 'self', 'selfish', 'selflessness', 'sell', 'selling', 'semester', 'semi', 'sen', 'send', 'sender', 'sendername', 'sending', 'sends', 'senor', 'sense', 'sensible', 'sensitive', 'sent', 'sentdate', 'sentence', 'senthil', 'senthilhsbc', 'september', 'series', 'serious', 'seriously', 'served', 'server', 'service', 'serving', 'set', 'setting', 'settle', 'settled', 'seven', 'seventeen', 'several', 'sex', 'sextextukcom', 'sexy', 'sf', 'sfine', 'sfirst', 'sfrom', 'sh', 'sha', 'shadow', 'shag', 'shagged', 'shahjahan', 'shahjahans', 'shakara', 'shakespeare', 'shaking', 'shall', 'shame', 'shampain', 'shangela', 'shanghai', 'shant', 'shaping', 'share', 'shattered', 'shaved', 'shd', 'sheet', 'sheffield', 'shelf', 'shell', 'sherawat', 'shes', 'shesil', 'shhhhh', 'shijas', 'shinco', 'shining', 'shiny', 'shipped', 'shipping', 'shirt', 'shit', 'shitin', 'shitload', 'shitstorm', 'shivratri', 'shjas', 'shldxxxx', 'shock', 'shocking', 'shoe', 'shoot', 'shop', 'shopping', 'shore', 'shorethe', 'short', 'shortage', 'shortcode', 'shorter', 'shortly', 'shot', 'shouldnt', 'shouted', 'shouting', 'shove', 'show', 'showed', 'shower', 'showered', 'showing', 'showroomscity', 'shracomorsglsuplt10', 'shrink', 'shuhui', 'shun', 'shut', 'shy', 'si', 'sian', 'sib', 'sic', 'sick', 'sicomo', 'side', 'sif', 'sigh', 'sight', 'sign', 'signal', 'significant', 'signin', 'signing', 'siguviri', 'silent', 'silently', 'silly', 'silver', 'sim', 'simonwatson5120', 'simple', 'simpler', 'simply', 'simulate', 'since', 'sinco', 'sing', 'singing', 'single', 'sink', 'sip', 'sipix', 'sir', 'siri', 'sirjii', 'sister', 'sit', 'site', 'sitter', 'sittin', 'sitting', 'situation', 'siva', 'six', 'size', 'sized', 'sk3', 'sk38xh', 'skallis', 'skateboarding', 'skilgme', 'skillgame', 'skillgame1winaweek', 'skip', 'sky', 'skype', 'slaaaaave', 'slap', 'slave', 'sleep', 'sleeping', 'sleepingand', 'sleepingwith', 'sleepwellamptake', 'sleepy', 'slept', 'slice', 'slide', 'sliding', 'slightly', 'slip', 'slipper', 'slippery', 'slo', 'slo4msgs', 'slob', 'slot', 'slovely', 'slow', 'slower', 'slowing', 'slowly', 'slurp', 'sm', 'smack', 'small', 'smart', 'smartcall', 'smartthough', 'smashed', 'smell', 'smeone', 'smile', 'smiling', 'smoke', 'smoked', 'smokin', 'smoking', 'smoothly', 'sms08718727870', 'smsd', 'smsservices', 'smth', 'sn', 'snake', 'snap', 'snatch', 'snickering', 'sno', 'snogs', 'snow', 'snowball', 'snowman', 'so', 'soc', 'sochte', 'social', 'sofa', 'soft', 'software', 'soil', 'soiree', 'sol', 'soladha', 'sold', 'solve', 'solved', 'some1', 'somebody', 'someone', 'someplace', 'somerset', 'somethin', 'something', 'somethings', 'sometimerakheshvisitor', 'sometimes', 'sometme', 'somewhat', 'somewhere', 'somewheresomeone', 'somewhr', 'sonathaya', 'sonetimes', 'song', 'sony', 'sonyericsson', 'soo', 'soon', 'sooner', 'soonlots', 'sooo', 'soooo', 'sooooo', 'sophas', 'sore', 'sorrow', 'sorrowsi', 'sorry', 'sorryi', 'sorryin', 'sort', 'sorta', 'sorted', 'sortedbut', 'sory', 'sorydarealyfrm', 'soso', 'soul', 'sound', 'soundtrack', 'source', 'south', 'sp', 'space', 'spageddies', 'spain', 'spanish', 'spark', 'speak', 'speaking', 'spec', 'special', 'specialcall', 'speciale', 'specialisation', 'specialise', 'specially', 'specific', 'speechless', 'speed', 'speedchat', 'speeding', 'spell', 'spelling', 'spend', 'spending', 'spent', 'spiffing', 'spile', 'spirit', 'spk', 'spl', 'splashmobile', 'splwat', 'spoil', 'spoiled', 'spoke', 'spoken', 'sponsor', 'spontaneously', 'spook', 'sport', 'spot', 'spotty', 'spouse', 'sppok', 'spree', 'spring', 'sprint', 'sprwm', 'sptv', 'sptyrone', 'spunout', 'spy', 'sq825', 'squatting', 'squeeeeeze', 'squid', 'squishy', 'sr', 'srsly', 'srt', 'sry', 'ssindia', 'st', 'staff', 'staffsciencenusedusgphyhcmkteachingpc1323', 'stagwood', 'stair', 'stalk', 'stalking', 'stamp', 'stamped', 'stand', 'standard', 'standing', 'stapati', 'star', 'starring', 'starshine', 'start', 'started', 'starti', 'starting', 'starving', 'starwars3', 'stated', 'statement', 'station', 'status', 'stay', 'stayin', 'staying', 'std', 'stdtxtrate', 'steak', 'steal', 'stealing', 'steam', 'steamboat', 'steed', 'stereo', 'stereophonics', 'sterling', 'stewartsize', 'sth', 'stick', 'stifled', 'still', 'stillmaybe', 'stitch', 'stock', 'stocked', 'stockport', 'stomach', 'stomp', 'stone', 'stoner', 'stool', 'stop', 'stop2', 'stop2stop', 'stopbcm', 'stopcost', 'stopcs', 'stopped', 'stoptxt', 'stoptxtstopå', 'store', 'storelike', 'storming', 'story', 'str', 'str8', 'straight', 'strain', 'strange', 'stranger', 'strangersaw', 'stream', 'street', 'streetshall', 'stress', 'strict', 'strike', 'strip', 'stroke', 'strong', 'strongbuy', 'strongly', 'strt', 'strtd', 'struggling', 'stubborn', 'stuck', 'studdying', 'student', 'studentfinancial', 'studio', 'study', 'studying', 'stuff', 'stuffed', 'stupid', 'stupidits', 'style', 'stylish', 'stylist', 'sub', 'submitted', 'submitting', 'subpoly', 'subscribe', 'subscribed', 'subscriber', 'subscription', 'subscriptn3gbpwk', 'subscrition', 'subtoitles', 'success', 'successful', 'successfully', 'suck', 'sucker', 'suddenly', 'suffer', 'sufficient', 'sugar', 'sugardad', 'suggest', 'suite', 'suitemates', 'sullivan', 'sum', 'sum1', 'summer', 'summon', 'sumthin', 'sun', 'sun0819', 'sunday', 'sunny', 'sunoco', 'sunroof', 'sunscreen', 'sunshine', 'suntec', 'sup', 'super', 'superb', 'superior', 'supervisor', 'supose', 'supplier', 'supply', 'support', 'supportvery', 'supposed', 'supreme', 'suprman', 'sura', 'sure', 'surely', 'surfing', 'surname', 'surprise', 'surprised', 'surrounded', 'survey', 'surya', 'sutra', 'sux', 'suzy', 'svc', 'sw7', 'sw73ss', 'swalpa', 'swann', 'swap', 'swatch', 'sway', 'swear', 'sweatter', 'sweet', 'sweetest', 'sweetheart', 'sweetie', 'swell', 'swimming', 'swimsuit', 'swing', 'switch', 'swoop', 'swt', 'swtheart', 'symbol', 'sympathetic', 'synced', 'syria', 'system', 't', 't91', 'ta', 'table', 'tablet', 'tackle', 'taco', 'tactful', 'tadaaaaa', 'tagged', 'tahan', 'tai', 'taj', 'take', 'takecare', 'taken', 'takenonly', 'takin', 'taking', 'talent', 'talk', 'talked', 'talkin', 'talking', 'tall', 'tallent', 'tampa', 'tap', 'tape', 'tariff', 'tarot', 'tarpon', 'taste', 'tat', 'tata', 'tattoo', 'tau', 'taught', 'tax', 'taxi', 'taxt', 'taylor', 'tayseertissco', 'tb', 'tc', 'tcllc', 'tcrw1', 'tcsbcm4235wc1n3xx', 'tcsc', 'tcsstop', 'tea', 'teach', 'teacher', 'teacoffee', 'team', 'tear', 'tease', 'teasing', 'tech', 'technical', 'technology', 'tee', 'teenager', 'teju', 'tel', 'telephone', 'telephonic', 'teletext', 'tell', 'telling', 'telly', 'telphone', 'telugu', 'teluguthts', 'temper', 'temple', 'ten', 'tenant', 'tendency', 'tenerife', 'teresa', 'term', 'terrible', 'terrific', 'terrorist', 'terry', 'tescos', 'tessypls', 'test', 'testing', 'tex', 'text', 'text82228', 'textand', 'textbook', 'textbuddy', 'texted', 'textin', 'texting', 'textoperator', 'textpod', 'textsweekend', 'tgxxrz', 'th', 'thangam', 'thank', 'thanks', 'thanks2', 'thanksgiving', 'thankyou', 'thanx', 'thanxxx', 'thasa', 'that2worzels', 'thatd', 'thatdont', 'thatll', 'thatnow', 'thats', 'thatåõs', 'the4th', 'theacusations', 'theater', 'theatre', 'thekingshead', 'themob', 'themobyo', 'thenwill', 'theoretically', 'theory', 'there', 'theregoodnight', 'therere', 'therexx', 'thesedays', 'theseyours', 'thesis', 'thewend', 'theyll', 'theyre', 'thgt', 'thia', 'thin', 'thing', 'think', 'thinkin', 'thinking', 'thirunelvali', 'thk', 'thkin', 'thm', 'thnk', 'thnq', 'tho', 'thot', 'though', 'thought', 'thoughtsi', 'thousand', 'thread', 'three', 'threw', 'thriller', 'throat', 'throw', 'throwin', 'thrown', 'thru', 'thrurespect', 'tht', 'thts', 'thuglyfe', 'thurs', 'thursday', 'thus', 'thx', 'thy', 'ti', 'tick', 'ticket', 'tiempo', 'tiger', 'tightly', 'tiime', 'til', 'till', 'tim', 'time', 'timedhoni', 'timehope', 'timi', 'timin', 'timing', 'tired', 'tiring', 'tirunelvai', 'tirunelvali', 'tirupur', 'tisscotayseer', 'title', 'tiwary', 'tiz', 'tkts', 'tlk', 'tm', 'tming', 'tmobile', 'tmorrowpls', 'tmr', 'tmrw', 'tnc', 'tncs', 'toa', 'tobacco', 'toclaim', 'today', 'todaybut', 'todaydo', 'todayfrom', 'todayhe', 'todaysundaysunday', 'todo', 'together', 'tok', 'token', 'tol', 'told', 'toldshe', 'toledo', 'toll', 'tom', 'tomarrow', 'tomo', 'tomocant', 'tomorro', 'tomorrow', 'tomorrowcall', 'tomorw', 'ton', 'tone', 'tones2u', 'tones2youcouk', 'tonght', 'tongued', 'tonight', 'tonite', 'tonitebusy', 'tonitethings', 'took', 'tookplace', 'tool', 'toot', 'toothpaste', 'tootsie', 'top', 'topicsorry', 'topped', 'toppoly', 'tor', 'torch', 'torrent', 'tortilla', 'tosend', 'toshiba', 'toss', 'tot', 'total', 'totally', 'touch', 'touched', 'tough', 'toughest', 'tour', 'towards', 'town', 'towndontmatter', 'toxic', 'tp', 'track', 'trade', 'tradition', 'traffic', 'train', 'training', 'trainners', 'transaction', 'transcribing', 'transfer', 'transferacc', 'transfered', 'transferred', 'transfr', 'transfred', 'transport', 'trash', 'trauma', 'trav', 'travel', 'treat', 'treated', 'treble', 'tree', 'trek', 'trend', 'trial', 'tried', 'trip', 'triumphed', 'tron', 'trouble', 'troubleshooting', 'trouser', 'truck', 'true', 'truekdo', 'truffle', 'truly', 'truro', 'trust', 'truth', 'truthful', 'try', 'tryin', 'trying', 'trywales', 'tsandcs', 'tscs', 'tscs087147403231winawkage16', 'tshirt', 'tsunami', 'tt', 'ttyl', 'tue', 'tues', 'tuesday', 'tui', 'tuition', 'tul', 'tulip', 'tunde', 'tune', 'turn', 'turning', 'tv', 'tvlol', 'twat', 'twelve', 'twenty', 'twice', 'twiggs', 'twilight', 'twin', 'twittering', 'two', 'txt', 'txt250com', 'txtauction', 'txtauctiontxt', 'txtin', 'txting', 'txtjourney', 'txtno', 'txts', 'txtx', 'tyler', 'type', 'typelyk', 'typical', 'u', 'u4', 'ubi', 'ucall', 'ufind', 'ugadi', 'ugh', 'uh', 'uhhhhrmm', 'uin', 'uk', 'ull', 'ultimately', 'um', 'umma', 'ummmawill', 'ummmmmaah', 'un', 'unable', 'unbelievable', 'unclaimed', 'uncle', 'unconditionally', 'unconscious', 'unconsciously', 'uncountable', 'underdtand', 'understand', 'understanding', 'understood', 'underwear', 'undrstndng', 'unemployed', 'unfortunately', 'unfortuntly', 'unhappy', 'uni', 'uniquei', 'univ', 'unknown', 'unless', 'unlimited', 'unni', 'unredeemed', 'unsecured', 'unsold', 'unsoldmike', 'unsoldnow', 'unsub', 'unsubscribe', 'unsubscribed', 'unusual', 'up4', 'upd8', 'updat', 'update', 'updatenow', 'upgrade', 'upgrdcentre', 'upload', 'upnot', 'upping', 'upstairs', 'upto', 'upyeh', 'ur', 'ure', 'urfeeling', 'urgent', 'urgentbut', 'urgentlyits', 'urgnt', 'urgoin', 'urmomi', 'urn', 'urself', 'usb', 'usc', 'use', 'used', 'useful', 'user', 'usf', 'usher', 'using', 'usmle', 'usno', 'usual', 'usualiam', 'usually', 'uterus', 'utter', 'uu', 'uup', 'uv', 'uve', 'uxxxx', 'v', 'vaazhthukkal', 'vague', 'vaguely', 'vai', 'vale', 'valentine', 'valid', 'valid12hrs', 'valuable', 'value', 'valued', 'varaya', 'vargu', 'various', 'vary', 'vasai', 'vatian', 'vava', 'vday', 'vegetable', 'veggie', 'vehicle', 'velachery', 'velly', 'venaam', 'venugopal', 'verified', 'verify', 'verifying', 'version', 'versus', 'vettam', 'vewy', 'via', 'victor', 'vid', 'video', 'videochat', 'videophones', 'videopic', 'vijay', 'vikky', 'vill', 'village', 'violated', 'violet', 'vip', 'virgin', 'virtual', 'visionsmscom', 'visit', 'visiting', 'visitneed', 'visitor', 'vitamin', 'viva', 'vl', 'voda', 'vodafone', 'vodka', 'voice', 'voicemail', 'voila', 'volcano', 'vomit', 'vomitin', 'vomiting', 'voted', 'voucher', 'voucherstext', 'vpod', 'vry', 'vth', 'vtired', 'vu', 'w', 'w111wx', 'w14rg', 'w1t1jy', 'w4', 'w45wq', 'wa', 'wa14', 'waaaat', 'wad', 'wadebridgei', 'wah', 'wahala', 'wahay', 'waheed', 'wahleykkumsharing', 'wait', 'waited', 'waiti', 'waitin', 'waiting', 'waitshould', 'waitu', 'wake', 'waking', 'wale', 'waliking', 'walk', 'walkabout', 'walked', 'walkin', 'walking', 'wall', 'walmart', 'walsall', 'wamma', 'wan', 'wan2', 'wana', 'wanna', 'want', 'want2come', 'wanted', 'wanting', 'wap', 'waqt', 'warm', 'warming', 'warned', 'warning', 'warranty', 'washob', 'wasnt', 'wasnåõt', 'waste', 'wasted', 'wasting', 'wat', 'watch', 'watching', 'water', 'watevr', 'wating', 'watll', 'wats', 'watt', 'wave', 'way', 'way2smscom', 'waythis', 'wc', 'wc1n3xx', 'weak', 'weakness', 'wear', 'wearing', 'weasel', 'weaseling', 'weather', 'web', 'web2mobile', 'webadres', 'webeburnin', 'webpage', 'website', 'wed', 'weddin', 'wedding', 'weddingfriend', 'wednesday', 'wee', 'weed', 'weeddeficient', 'week', 'weekend', 'weekly', 'weekstop', 'weigh', 'weighed', 'weight', 'weighthaha', 'weightloss', 'weird', 'weirdest', 'weirdo', 'weirdy', 'weiyi', 'welcome', 'well', 'wellda', 'welp', 'wen', 'wendy', 'went', 'wer', 'wereare', 'werebored', 'werent', 'werethe', 'wesley', 'west', 'western', 'westlife', 'westonzoyland', 'westshore', 'wet', 'weåõve', 'whassup', 'whatever', 'whats', 'whatsup', 'wheel', 'wheellock', 'whenever', 'whenevr', 'whenre', 'whens', 'whereare', 'wherebtw', 'wheres', 'wherever', 'wherevr', 'wherres', 'whether', 'whileamp', 'whilltake', 'white', 'whn', 'who', 'whole', 'whose', 'whr', 'wi', 'wicked', 'wicklow', 'wid', 'wif', 'wife', 'wifehow', 'wikipediacom', 'wil', 'wild', 'wildest', 'wildlife', 'willing', 'win', 'win150ppmx3age16', 'wind', 'window', 'windy', 'wine', 'wined', 'wing', 'winner', 'winnersclub', 'winterstone', 'wipro', 'wiproyou', 'wire3net', 'wisdom', 'wise', 'wish', 'wisheds', 'wishin', 'wishing', 'wishlist', 'wiskey', 'wit', 'withdraw', 'wither', 'within', 'without', 'witin', 'witot', 'witout', 'wiv', 'wizzle', 'wk', 'wkend', 'wkent150p16', 'wkg', 'wkly', 'wks', 'wlcome', 'wld', 'wn', 'wnevr', 'wnt', 'wo', 'woke', 'woken', 'woman', 'womdarfull', 'wondar', 'wonder', 'wonderful', 'wondering', 'wont', 'wood', 'woohoo', 'woozles', 'word', 'wordcollect', 'wordnot', 'wordstart', 'work', 'workage', 'workand', 'workin', 'working', 'worklove', 'workout', 'world', 'worldgnun', 'worldmay', 'worldvery', 'worried', 'worry', 'worryc', 'worrying', 'worryuse', 'worse', 'worst', 'worth', 'worthless', 'wot', 'wotu', 'wotz', 'woul', 'would', 'wouldnt', 'wow', 'wrc', 'wrecked', 'write', 'writhing', 'wrk', 'wrki', 'wrking', 'wrld', 'wrong', 'wrongly', 'wrongtake', 'wrote', 'wt', 'wtc', 'wtf', 'wth', 'wthout', 'wud', 'wuld', 'wuldnt', 'wun', 'www4tcbiz', 'wwwapplausestorecom', 'wwwasjesuscom', 'wwwb4utelecom', 'wwwbridalpetticoatdreamscouk', 'wwwcnupdatescomnewsletter', 'wwwcomuknet', 'wwwdbuknet', 'wwwflirtpartyus', 'wwwgetzedcouk', 'wwwidewcom', 'wwwldewcom', 'wwwldewcom1win150ppmx3age16', 'wwwldewcomsubs161win150ppmx3', 'wwwmovietriviatv', 'wwwmusictrivianet', 'wwworangecoukow', 'wwwphb1com', 'wwwregalportfoliocouk', 'wwwringtonekingcouk', 'wwwringtonescouk', 'wwwsmsacubootydelious', 'wwwsmsconet', 'wwwtextcompcom', 'wwwtextpodnet', 'wwwtklscom', 'wwwtxt2shopcom', 'wwwtxt43com', 'wwwtxt82228com', 'wwwtxttowincouk', 'wwwwin82050couk', 'wylie', 'x', 'x2', 'x29', 'x49', 'xafter', 'xam', 'xavier', 'xchat', 'xclusiveclubsaisai', 'xmas', 'xnet', 'xoxo', 'xuhui', 'xx', 'xxsp', 'xxuk', 'xxx', 'xxxmobilemovieclub', 'xxxmobilemovieclubcomnqjkgighjjgcbl', 'xxxx', 'xxxxx', 'xxxxxx', 'xxxxxxxx', 'xy', 'y87', 'ya', 'yagoing', 'yahoo', 'yalru', 'yam', 'yan', 'yar', 'yaxx', 'yaxxx', 'yay', 'yck', 'yday', 'yeah', 'yeahand', 'year', 'yeesh', 'yeh', 'yelling', 'yellow', 'yelowi', 'yen', 'yep', 'yer', 'yes', 'yes434', 'yesbut', 'yesfrom', 'yesgauti', 'yeshe', 'yeshere', 'yesim', 'yesmum', 'yessura', 'yest', 'yesterday', 'yet', 'yettys', 'yetunde', 'yi', 'yifeng', 'yijue', 'yijuehotmailcom', 'ym', 'ymca', 'yo', 'yoga', 'yogasana', 'yohere', 'youany', 'youclean', 'youd', 'youhow', 'youi', 'yould', 'youll', 'youmy', 'youphone', 'youre', 'yourinclusive', 'yourjob', 'youthats', 'youto', 'youve', 'youwanna', 'yowifes', 'yoyyooo', 'yr', 'ystrdayice', 'yummy', 'yun', 'yunny', 'yuou', 'yup', 'yupz', 'z', 'zac', 'zed', 'zhong', 'zindgi', 'zoe', 'zoom', 'zouk', 'zyada', 'å', 'åð', 'åòharry', 'åòits', 'åômorrow', 'åôrents', 'ì', 'ìll', 'ìï', 'û', 'ûªve', 'ûï', 'ûïharry', 'ûò']\n"
     ]
    }
   ],
   "source": [
    "# print(tfidf_train.shape)\n",
    "# print(tfidf_test.shape)\n",
    "# print(tfidf_vect.get_feature_names())"
   ]
  },
  {
   "cell_type": "markdown",
   "metadata": {},
   "source": [
    "## Step 4: Creating ML Classifier"
   ]
  },
  {
   "cell_type": "code",
   "execution_count": 13,
   "metadata": {},
   "outputs": [],
   "source": [
    "from sklearn.ensemble import RandomForestClassifier, GradientBoostingClassifier\n",
    "from sklearn.metrics import precision_recall_fscore_support as score\n",
    "from sklearn.metrics import confusion_matrix"
   ]
  },
  {
   "cell_type": "markdown",
   "metadata": {},
   "source": [
    "###### Note\n",
    "The parameters use for the classifier below were determined to be the most efficient and effetive from a combination of variables that were tested. To find these tests, check out the classifier parameter file."
   ]
  },
  {
   "cell_type": "code",
   "execution_count": 14,
   "metadata": {},
   "outputs": [],
   "source": [
    "rf = RandomForestClassifier(n_estimators=150, max_depth=None, n_jobs=-1)\n",
    "\n",
    "rf_model = rf.fit(X_train_vect, y_train) #fitting training data with label\n",
    "y_pred = rf_model.predict(X_test_vect)"
   ]
  },
  {
   "cell_type": "code",
   "execution_count": 15,
   "metadata": {
    "scrolled": true
   },
   "outputs": [
    {
     "name": "stdout",
     "output_type": "stream",
     "text": [
      "------------Results-----------\n",
      "Predicted to be Ham and is Ham -> 695   ---- GOOD\n",
      "Predicted to be Ham and is Spam -> 17   ---- False Negative\n",
      "Predicted to be Spam and is Ham -> 0   ---- False Positive\n",
      "Predicted to be Spam and is Spam -> 88   ---- GOOD\n",
      "------------Stats-------------\n",
      "Precision: 1.0 / Recall: 0.838 / Accuracy: 0.979\n"
     ]
    }
   ],
   "source": [
    "precision, recall, fscore, train_support = score(y_test, y_pred, pos_label='spam', average='binary')\n",
    "\n",
    "matrix = confusion_matrix(y_test, y_pred)\n",
    "\n",
    "pHam_Ham = matrix[0][0]\n",
    "pHam_Spam = matrix[1][0]\n",
    "pSpam_Ham = matrix[0][1]\n",
    "pSpam_Spam = matrix[1][1]\n",
    "\n",
    "print(\"------------Results-----------\")\n",
    "print(\"Predicted to be Ham and is Ham ->\", pHam_Ham, \"  ---- GOOD\")\n",
    "print(\"Predicted to be Ham and is Spam ->\", pHam_Spam, \"  ---- False Negative\")\n",
    "print(\"Predicted to be Spam and is Ham ->\", pSpam_Ham, \"  ---- False Positive\")\n",
    "print(\"Predicted to be Spam and is Spam ->\", pSpam_Spam, \"  ---- GOOD\")\n",
    "print(\"------------Stats-------------\")\n",
    "print('Precision: {} / Recall: {} / Accuracy: {}'.format(\n",
    "    round(precision, 3), round(recall, 3), round((y_pred==y_test).sum()/len(y_pred), 3)))\n"
   ]
  },
  {
   "cell_type": "markdown",
   "metadata": {},
   "source": [
    "Precision -> The number of mails that were predicted to be spam that are actually spam\n",
    "\n",
    "Recall -> The amount of mails that were perdicted to be spam divided by the total amount of spam\n",
    "\n",
    "Accuracy -> The number of correct mail labels that were given to all test cases"
   ]
  },
  {
   "cell_type": "markdown",
   "metadata": {},
   "source": [
    "## End Notes\n",
    "\n",
    "As seen from the results, from using the Random Forest Classifier, we are able to predict the correct ham/spam option with a 98% accuracy with a few  false positives. For this program, the Gradient Boosting Classifier was not used because if you look at the Classifier notes, Gradient does not have a 100% percision. In the case of spam/ham, having false positives if ok, meaning there will be some spam in your ham mail; but having important mails in spam is not good. So with the given situation, the Randon Forest Classifier was the better options. To further imporve the results, in the future we can add more features and try more variales for the classifier parameters."
   ]
  }
 ],
 "metadata": {
  "kernelspec": {
   "display_name": "Python 3.7.0 32-bit",
   "language": "python",
   "name": "python37032bit1be357a6acfb4b96b06ae41d8745335a"
  },
  "language_info": {
   "codemirror_mode": {
    "name": "ipython",
    "version": 3
   },
   "file_extension": ".py",
   "mimetype": "text/x-python",
   "name": "python",
   "nbconvert_exporter": "python",
   "pygments_lexer": "ipython3",
   "version": "3.7.0"
  }
 },
 "nbformat": 4,
 "nbformat_minor": 2
}
